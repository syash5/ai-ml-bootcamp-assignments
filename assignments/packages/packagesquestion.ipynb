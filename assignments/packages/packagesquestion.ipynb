{
 "cells": [
  {
   "cell_type": "markdown",
   "metadata": {},
   "source": [
    "# Module 5: Modules and Packages Assignments"
   ]
  },
  {
   "cell_type": "code",
   "execution_count": 1,
   "metadata": {},
   "outputs": [
    {
     "name": "stdout",
     "output_type": "stream",
     "text": [
      "5.0\n",
      "0.8939966636005579\n"
     ]
    }
   ],
   "source": [
    "# Module 5: Modules and Packages Assignments\n",
    "## Lesson 5.1: Importing Modules\n",
    "### Assignment 1: Importing and Using Modules\n",
    "\n",
    "# Import the `math` module and use it to calculate the square root of 25 and the sine of 90 degrees.\n",
    "\n",
    "import math as math\n",
    "\n",
    "print(math.sqrt(25))\n",
    "print(math.sin(90))"
   ]
  },
  {
   "cell_type": "code",
   "execution_count": 4,
   "id": "dbec8a5d",
   "metadata": {},
   "outputs": [
    {
     "name": "stdout",
     "output_type": "stream",
     "text": [
      "2025-05-19 16:04:21.988859\n"
     ]
    }
   ],
   "source": [
    "### Assignment 2: Aliasing Modules\n",
    "\n",
    "# Import the `datetime` module with an alias and use it to print the current date and time.\n",
    "\n",
    "import datetime as dt\n",
    "\n",
    "print(dt.datetime.now())"
   ]
  },
  {
   "cell_type": "code",
   "execution_count": 5,
   "id": "d050f80c",
   "metadata": {},
   "outputs": [
    {
     "name": "stdout",
     "output_type": "stream",
     "text": [
      "40\n"
     ]
    }
   ],
   "source": [
    "### Assignment 3: Importing Specific Functions\n",
    "\n",
    "# Import the `randint` function from the `random` module and use it to generate a random integer between 1 and 100.\n",
    "\n",
    "import random\n",
    "\n",
    "print(random.randint(1,100))"
   ]
  },
  {
   "cell_type": "code",
   "execution_count": 7,
   "id": "1ffc43a6",
   "metadata": {},
   "outputs": [
    {
     "name": "stdout",
     "output_type": "stream",
     "text": [
      "4.0\n",
      "8.0\n"
     ]
    }
   ],
   "source": [
    "### Assignment 4: Importing Multiple Functions\n",
    "\n",
    "# Import the `sqrt` and `pow` functions from the `math` module \n",
    "# and use them to calculate the square root of 16 and 2 raised to the power of 3.\n",
    "\n",
    "from math import pow \n",
    "from math import sqrt\n",
    "\n",
    "print(sqrt(16))\n",
    "print(pow(2,3))"
   ]
  },
  {
   "cell_type": "code",
   "execution_count": 10,
   "id": "49b63027",
   "metadata": {},
   "outputs": [
    {
     "name": "stdout",
     "output_type": "stream",
     "text": [
      "No module named 'm'\n"
     ]
    }
   ],
   "source": [
    "### Assignment 5: Handling Import Errors\n",
    "\n",
    "# Write code that attempts to import\n",
    "#  a non-existent module and gracefully handles the import error by printing an error message.\n",
    "\n",
    "try:\n",
    "    import m\n",
    "except ImportError as e:\n",
    "    print(e)"
   ]
  },
  {
   "cell_type": "code",
   "execution_count": 19,
   "id": "8befe260",
   "metadata": {},
   "outputs": [
    {
     "name": "stdout",
     "output_type": "stream",
     "text": [
      "['packagessolution.ipynb', 'test', 'packagesquestion.ipynb']\n",
      "['packagessolution.ipynb', 'packagesquestion.ipynb']\n"
     ]
    }
   ],
   "source": [
    "## Lesson 5.2: Standard Library Overview\n",
    "### Assignment 6: Working with the `os` Module\n",
    "\n",
    "# Use the `os` module to create a new directory, \n",
    "# list the contents of the current directory, and remove the newly created directory.\n",
    "\n",
    "import os\n",
    "\n",
    "os.mkdir('test')\n",
    "print(os.listdir())\n",
    "os.rmdir('test')\n",
    "print(os.listdir())\n"
   ]
  },
  {
   "cell_type": "code",
   "execution_count": 21,
   "id": "324eb9d5",
   "metadata": {},
   "outputs": [
    {
     "name": "stdout",
     "output_type": "stream",
     "text": [
      "3.12.3 (main, Feb  4 2025, 14:48:35) [GCC 13.3.0]\n",
      "['/home/dtdc/.local/lib/python3.12/site-packages/ipykernel_launcher.py', '--f=/home/dtdc/.local/share/jupyter/runtime/kernel-v3b64d6e8dc8e471bfcc96cd6cf1e15d496da518a1.json']\n"
     ]
    }
   ],
   "source": [
    "### Assignment 7: Working with the `sys` Module\n",
    "\n",
    "# Use the `sys` module to print the Python version currently in use and the command-line arguments passed to the script.\n",
    "\n",
    "import sys\n",
    "\n",
    "print(sys.version)\n",
    "print(sys.argv)"
   ]
  },
  {
   "cell_type": "code",
   "execution_count": 22,
   "id": "e7a0404c",
   "metadata": {},
   "outputs": [
    {
     "name": "stdout",
     "output_type": "stream",
     "text": [
      "6\n",
      "120\n"
     ]
    }
   ],
   "source": [
    "### Assignment 8: Working with the `math` Module\n",
    "\n",
    "# Use the `math` module to calculate the greatest common divisor (GCD) of two numbers and the factorial of a number.\n",
    "\n",
    "import math\n",
    "\n",
    "print(math.gcd(48, 18))  # 6\n",
    "print(math.factorial(5))  # 120"
   ]
  },
  {
   "cell_type": "code",
   "execution_count": 25,
   "id": "db94f0fc",
   "metadata": {},
   "outputs": [
    {
     "name": "stdout",
     "output_type": "stream",
     "text": [
      "27\n"
     ]
    }
   ],
   "source": [
    "### Assignment 9: Working with the `datetime` Module\n",
    "\n",
    "# Use the `datetime` module to print the current date, \n",
    "# calculate the date 100 days from today, and determine the day of the week for a given date.\n",
    "\n",
    "import datetime\n",
    "\n",
    "# print(datetime.datetime.date)\n",
    "print((datetime.datetime.today() + datetime.timedelta(days=100)).day)"
   ]
  },
  {
   "cell_type": "code",
   "execution_count": 33,
   "id": "e0b6fe00",
   "metadata": {},
   "outputs": [
    {
     "name": "stdout",
     "output_type": "stream",
     "text": [
      "before shuffle [19, 9, 18, 39, 34]\n",
      "after shuffle [39, 34, 9, 19, 18]\n"
     ]
    }
   ],
   "source": [
    "### Assignment 10: Working with the `random` Module\n",
    "\n",
    "# Use the `random` module to generate a list of 5 random numbers between 1 and 50 and shuffle the elements of a list.\n",
    "\n",
    "import shutil, random\n",
    "\n",
    "lst = [random.randint(1,50) for x in range(1,6)]\n",
    "print(\"before shuffle\", lst)\n",
    "random.shuffle(lst)\n",
    "print(\"after shuffle\", lst)"
   ]
  },
  {
   "cell_type": "code",
   "execution_count": 23,
   "id": "a1bce23c",
   "metadata": {},
   "outputs": [
    {
     "data": {
      "text/plain": [
       "3"
      ]
     },
     "execution_count": 23,
     "metadata": {},
     "output_type": "execute_result"
    }
   ],
   "source": [
    "## Lesson 5.3: Creating and Using Packages\n",
    "### Assignment 11: Creating a Simple Package\n",
    "\n",
    "# Create a package named `mypackage` with two modules: `module1` and `module2`. `module1` \n",
    "# should contain a function that adds two numbers, \n",
    "# and `module2` should contain a function that multiplies two numbers. Write code to use these functions.\n",
    "\n",
    "from mypackage import module1\n",
    "module1.addition(10,20)\n",
    "\n",
    "# or\n",
    "\n",
    "from mypackage.module1 import addition\n",
    "addition(1,2)\n"
   ]
  },
  {
   "cell_type": "code",
   "execution_count": 24,
   "id": "2af1964d",
   "metadata": {},
   "outputs": [
    {
     "name": "stdout",
     "output_type": "stream",
     "text": [
      "6\n"
     ]
    }
   ],
   "source": [
    "### Assignment 12: Using `__init__.py`\n",
    "\n",
    "# Modify the `mypackage` package to include an `__init__.py` \n",
    "# file that imports the functions from `module1` and `module2`. Write code to use these functions.\n",
    "\n",
    "from mypackage import module2\n",
    "print(module2.multiply(1,6))"
   ]
  },
  {
   "cell_type": "code",
   "execution_count": 25,
   "id": "6debc859",
   "metadata": {},
   "outputs": [
    {
     "data": {
      "text/plain": [
       "3"
      ]
     },
     "execution_count": 25,
     "metadata": {},
     "output_type": "execute_result"
    }
   ],
   "source": [
    "### Assignment 13: Importing from a Package\n",
    "\n",
    "# Write code to import and use the functions from `mypackage` without explicitly importing `module1` and `module2`.\n",
    "\n",
    "from mypackage.module1 import addition\n",
    "addition(1,2) "
   ]
  },
  {
   "cell_type": "code",
   "execution_count": 29,
   "id": "d65e8811",
   "metadata": {},
   "outputs": [
    {
     "name": "stdout",
     "output_type": "stream",
     "text": [
      "2\n"
     ]
    }
   ],
   "source": [
    "### Assignment 14: Relative Imports\n",
    "\n",
    "# Create a subpackage named `subpackage` within `mypackage` and move `module2` into `subpackage`. \n",
    "# Modify the import statements in \n",
    "# `__init__.py` to use relative imports. Write code to use the functions from both modules.\n",
    "\n",
    "\n",
    "from mypackage.subpackage import module3\n",
    "print(module3.divide(20,10))"
   ]
  },
  {
   "cell_type": "code",
   "execution_count": 30,
   "id": "8996a631",
   "metadata": {},
   "outputs": [
    {
     "name": "stdout",
     "output_type": "stream",
     "text": [
      "cannot import name 'modules' from 'mypackage' (unknown location)\n"
     ]
    }
   ],
   "source": [
    "### Assignment 15: Handling Package Import Errors\n",
    "\n",
    "# Write code that attempts to import a non-existent \n",
    "# function from `mypackage` and gracefully handles the import error by printing an error message.\n",
    "\n",
    "try:\n",
    "    from mypackage import modules\n",
    "except ImportError as e:\n",
    "    print(e)"
   ]
  },
  {
   "cell_type": "code",
   "execution_count": null,
   "id": "03fac5d6",
   "metadata": {},
   "outputs": [],
   "source": []
  }
 ],
 "metadata": {
  "kernelspec": {
   "display_name": "Python 3",
   "language": "python",
   "name": "python3"
  },
  "language_info": {
   "codemirror_mode": {
    "name": "ipython",
    "version": 3
   },
   "file_extension": ".py",
   "mimetype": "text/x-python",
   "name": "python",
   "nbconvert_exporter": "python",
   "pygments_lexer": "ipython3",
   "version": "3.12.3"
  }
 },
 "nbformat": 4,
 "nbformat_minor": 5
}
