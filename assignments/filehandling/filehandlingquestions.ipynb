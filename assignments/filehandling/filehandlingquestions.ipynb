{
 "cells": [
  {
   "cell_type": "markdown",
   "metadata": {},
   "source": [
    "# Module: File Handling Assignments\n",
    "## Lesson: File Handling and Operations\n",
    "### Assignment 1: Reading a File\n",
    "\n",
    "Write a function that reads the contents of a file named `sample.txt` and prints each line.\n",
    "\n",
    "### Assignment 2: Writing to a File\n",
    "\n",
    "Write a function that writes a list of strings to a file named `output.txt`, with each string on a new line.\n",
    "\n",
    "### Assignment 3: Copying a File\n",
    "\n",
    "Write a function that copies the contents of a file named `source.txt` to a new file named `destination.txt`.\n",
    "\n",
    "### Assignment 4: Appending to a File\n",
    "\n",
    "Write a function that appends a given string to the end of a file named `log.txt`.\n",
    "\n",
    "### Assignment 5: Counting Words in a File\n",
    "\n",
    "Write a function that reads the contents of a file named `document.txt` and returns the number of words in the file.\n",
    "\n",
    "### Assignment 6: Finding and Replacing Text\n",
    "\n",
    "Write a function that finds and replaces all occurrences of a given word in a file named `data.txt` with another word.\n",
    "\n",
    "### Assignment 7: Reading a File in Reverse\n",
    "\n",
    "Write a function that reads the contents of a file named `reverse.txt` and prints each line in reverse order.\n",
    "\n",
    "### Assignment 8: Counting Lines, Words, and Characters\n",
    "\n",
    "Write a function that reads the contents of a file named `stats.txt` and returns the number of lines, words, and characters in the file.\n",
    "\n",
    "### Assignment 9: Merging Multiple Files\n",
    "\n",
    "Write a function that merges the contents of multiple files into a single file named `merged.txt`.\n",
    "\n",
    "### Assignment 10: Splitting a Large File\n",
    "\n",
    "Write a function that splits a large file named `large.txt` into smaller files of 100 lines each.\n",
    "\n",
    "### Assignment 11: Creating a Log File\n",
    "\n",
    "Write a function that creates a log file named `activity.log` and writes log messages with timestamps.\n",
    "\n",
    "### Assignment 12: Binary File Operations\n",
    "\n",
    "Write a function that reads a binary file named `image.bin` and writes its contents to another binary file named `copy_image.bin`.\n",
    "\n",
    "### Assignment 13: CSV File Operations\n",
    "\n",
    "Write a function that reads a CSV file named `data.csv` and prints its contents as a list of dictionaries.\n",
    "\n",
    "### Assignment 14: JSON File Operations\n",
    "\n",
    "Write a function that reads a JSON file named `data.json` and prints its contents as a Python dictionary.\n",
    "\n",
    "### Assignment 15: File Permission Handling\n",
    "\n",
    "Write a function that attempts to read a file named `protected.txt` and handles any permission errors gracefully by printing an error message."
   ]
  },
  {
   "cell_type": "code",
   "execution_count": 15,
   "metadata": {},
   "outputs": [
    {
     "name": "stdout",
     "output_type": "stream",
     "text": [
      "hii\\\n",
      "ikwheo\n"
     ]
    }
   ],
   "source": [
    "# Module: File Handling Assignments\n",
    "## Lesson: File Handling and Operations\n",
    "### Assignment 1: Reading a File\n",
    "\n",
    "# Write a function that reads the contents of a file named `sample.txt` and prints each line.\n",
    "\n",
    "def readFile():\n",
    "    with open('sample.txt', 'r') as file:\n",
    "        for line in file:\n",
    "            print(line.strip())\n",
    "    \n",
    "readFile()"
   ]
  },
  {
   "cell_type": "code",
   "execution_count": 22,
   "id": "c12cd53c",
   "metadata": {},
   "outputs": [
    {
     "name": "stdout",
     "output_type": "stream",
     "text": [
      "hii\n"
     ]
    }
   ],
   "source": [
    "### Assignment 2: Writing to a File\n",
    "\n",
    "# Write a function that writes a list of strings to a file named `output.txt`, with each string on a new line.\n",
    "\n",
    "def writeFile(str):\n",
    "    with open('sample.txt', 'w') as file:\n",
    "        file.write(str)\n",
    "\n",
    "writeFile(\"hii\")\n",
    "readFile()\n"
   ]
  },
  {
   "cell_type": "code",
   "execution_count": 23,
   "id": "c7500c40",
   "metadata": {},
   "outputs": [],
   "source": [
    "### Assignment 3: Copying a File\n",
    "\n",
    "# Write a function that copies the contents of a file named `source.txt` to a new file named `destination.txt`.\n",
    "\n",
    "def copyFile(source, destination):\n",
    "    with open(source, 'r') as src:\n",
    "        with open(destination, 'w') as dest:\n",
    "            dest.write(src.read())\n",
    "\n",
    "copyFile('sample.txt', 'write.txt')\n"
   ]
  },
  {
   "cell_type": "code",
   "execution_count": 27,
   "id": "c258b776",
   "metadata": {},
   "outputs": [],
   "source": [
    "### Assignment 4: Appending to a File\n",
    "\n",
    "# Write a function that appends a given string to the end of a file named `log.txt`.\n",
    "\n",
    "\n",
    "def appendToFile(str, file):\n",
    "    with open(file, 'a') as file:\n",
    "        file.write(str + '\\n')\n",
    "\n",
    "appendToFile(\"weww\", 'sample.txt')"
   ]
  },
  {
   "cell_type": "code",
   "execution_count": 37,
   "id": "7dc4f188",
   "metadata": {},
   "outputs": [
    {
     "data": {
      "text/plain": [
       "6"
      ]
     },
     "execution_count": 37,
     "metadata": {},
     "output_type": "execute_result"
    }
   ],
   "source": [
    "### Assignment 5: Counting Words in a File\n",
    "\n",
    "# Write a function that reads the contents of a file named `document.txt` and returns the number of words in the file.\n",
    "\n",
    "def wordsInFile(fileName):\n",
    "    wordCount = 0\n",
    "    with open(fileName, 'r') as file:\n",
    "        for words in file:\n",
    "            wordCount += len(words.split())\n",
    "            \n",
    "    return wordCount\n",
    "\n",
    "wordsInFile(\"sample.txt\")"
   ]
  },
  {
   "cell_type": "code",
   "execution_count": 44,
   "id": "065234c2",
   "metadata": {},
   "outputs": [],
   "source": [
    "### Assignment 6: Finding and Replacing Text\n",
    "\n",
    "# Write a function that finds and replaces all occurrences of a given word in a file named `data.txt` with another word.\n",
    "\n",
    "def replaceWordInFile(fileName, word, toReplaceWith):\n",
    "    with open(fileName, 'r') as file:\n",
    "        text = file.read()\n",
    "        text = text.replace(word, toReplaceWith)\n",
    "\n",
    "        with open(fileName, 'w') as file:\n",
    "            file.write(text)\n",
    "    \n",
    "\n",
    "replaceWordInFile(\"sample.txt\" , \"hi\", \"bye\")\n"
   ]
  },
  {
   "cell_type": "code",
   "execution_count": null,
   "id": "43c9e726",
   "metadata": {},
   "outputs": [],
   "source": [
    "### Assignment 7: Reading a File in Reverse\n",
    "\n",
    "# Write a function that reads the contents of a file named `reverse.txt` and prints each line in reverse order.\n",
    "\n",
    "def reverseReadFile(fileName):\n",
    "    with open(fileName, 'r') as file:\n",
    "        "
   ]
  }
 ],
 "metadata": {
  "kernelspec": {
   "display_name": "Python 3",
   "language": "python",
   "name": "python3"
  },
  "language_info": {
   "codemirror_mode": {
    "name": "ipython",
    "version": 3
   },
   "file_extension": ".py",
   "mimetype": "text/x-python",
   "name": "python",
   "nbconvert_exporter": "python",
   "pygments_lexer": "ipython3",
   "version": "3.12.3"
  }
 },
 "nbformat": 4,
 "nbformat_minor": 5
}
