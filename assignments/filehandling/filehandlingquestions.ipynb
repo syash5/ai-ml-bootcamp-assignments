{
 "cells": [
  {
   "cell_type": "markdown",
   "metadata": {},
   "source": [
    "# Module: File Handling Assignments\n"
   ]
  },
  {
   "cell_type": "code",
   "execution_count": 15,
   "metadata": {},
   "outputs": [
    {
     "name": "stdout",
     "output_type": "stream",
     "text": [
      "hii\\\n",
      "ikwheo\n"
     ]
    }
   ],
   "source": [
    "# Module: File Handling Assignments\n",
    "## Lesson: File Handling and Operations\n",
    "### Assignment 1: Reading a File\n",
    "\n",
    "# Write a function that reads the contents of a file named `sample.txt` and prints each line.\n",
    "\n",
    "def readFile():\n",
    "    with open('sample.txt', 'r') as file:\n",
    "        for line in file:\n",
    "            print(line.strip())\n",
    "    \n",
    "readFile()"
   ]
  },
  {
   "cell_type": "code",
   "execution_count": 22,
   "id": "c12cd53c",
   "metadata": {},
   "outputs": [
    {
     "name": "stdout",
     "output_type": "stream",
     "text": [
      "hii\n"
     ]
    }
   ],
   "source": [
    "### Assignment 2: Writing to a File\n",
    "\n",
    "# Write a function that writes a list of strings to a file named `output.txt`, with each string on a new line.\n",
    "\n",
    "def writeFile(str):\n",
    "    with open('sample.txt', 'w') as file:\n",
    "        file.write(str)\n",
    "\n",
    "writeFile(\"hii\")\n",
    "readFile()\n"
   ]
  },
  {
   "cell_type": "code",
   "execution_count": 23,
   "id": "c7500c40",
   "metadata": {},
   "outputs": [],
   "source": [
    "### Assignment 3: Copying a File\n",
    "\n",
    "# Write a function that copies the contents of a file named `source.txt` to a new file named `destination.txt`.\n",
    "\n",
    "def copyFile(source, destination):\n",
    "    with open(source, 'r') as src:\n",
    "        with open(destination, 'w') as dest:\n",
    "            dest.write(src.read())\n",
    "\n",
    "copyFile('sample.txt', 'write.txt')\n"
   ]
  },
  {
   "cell_type": "code",
   "execution_count": 27,
   "id": "c258b776",
   "metadata": {},
   "outputs": [],
   "source": [
    "### Assignment 4: Appending to a File\n",
    "\n",
    "# Write a function that appends a given string to the end of a file named `log.txt`.\n",
    "\n",
    "\n",
    "def appendToFile(str, file):\n",
    "    with open(file, 'a') as file:\n",
    "        file.write(str + '\\n')\n",
    "\n",
    "appendToFile(\"weww\", 'sample.txt')"
   ]
  },
  {
   "cell_type": "code",
   "execution_count": 19,
   "id": "7dc4f188",
   "metadata": {},
   "outputs": [
    {
     "data": {
      "text/plain": [
       "8"
      ]
     },
     "execution_count": 19,
     "metadata": {},
     "output_type": "execute_result"
    }
   ],
   "source": [
    "### Assignment 5: Counting Words in a File\n",
    "\n",
    "# Write a function that reads the contents of a file named `document.txt` and returns the number of words in the file.\n",
    "\n",
    "def wordsInFile(fileName):\n",
    "    wordCount = 0\n",
    "    with open(fileName, 'r') as file:\n",
    "        for words in file:\n",
    "            wordCount += len(words.split())\n",
    "            \n",
    "    return wordCount\n",
    "\n",
    "wordsInFile(\"sample.txt\")"
   ]
  },
  {
   "cell_type": "code",
   "execution_count": 44,
   "id": "065234c2",
   "metadata": {},
   "outputs": [],
   "source": [
    "### Assignment 6: Finding and Replacing Text\n",
    "\n",
    "# Write a function that finds and replaces all occurrences of a given word in a file named `data.txt` with another word.\n",
    "\n",
    "def replaceWordInFile(fileName, word, toReplaceWith):\n",
    "    with open(fileName, 'r') as file:\n",
    "        text = file.read()\n",
    "        text = text.replace(word, toReplaceWith)\n",
    "\n",
    "        with open(fileName, 'w') as file:\n",
    "            file.write(text)\n",
    "    \n",
    "\n",
    "replaceWordInFile(\"sample.txt\" , \"hi\", \"bye\")\n"
   ]
  },
  {
   "cell_type": "code",
   "execution_count": 13,
   "id": "43c9e726",
   "metadata": {},
   "outputs": [
    {
     "name": "stdout",
     "output_type": "stream",
     "text": [
      " sdf kjwejew \n",
      "weww we sd byei bye\n",
      "byeijelwjelw\n"
     ]
    }
   ],
   "source": [
    "### Assignment 7: Reading a File in Reverse\n",
    "\n",
    "# Write a function that reads the contents of a file named `reverse.txt` and prints each line in reverse order.\n",
    "\n",
    "def reverseReadFile(fileName):\n",
    "    with open(fileName, 'r') as file:\n",
    "        data = file.read()\n",
    "        for line in reversed(data.splitlines()):\n",
    "            print(line)\n",
    "                \n",
    "                \n",
    "reverseReadFile('sample.txt')"
   ]
  },
  {
   "cell_type": "code",
   "execution_count": 38,
   "id": "72dbf0e7",
   "metadata": {},
   "outputs": [
    {
     "data": {
      "text/plain": [
       "(3, 8, 46)"
      ]
     },
     "execution_count": 38,
     "metadata": {},
     "output_type": "execute_result"
    }
   ],
   "source": [
    "### Assignment 8: Counting Lines, Words, and Characters\n",
    "\n",
    "# Write a function that reads the contents of a \n",
    "# file named `stats.txt` and returns the number of lines, words, and characters in the file.\n",
    "\n",
    "def noOfLinesWordsChars(fileName):\n",
    "    lines = 0\n",
    "    wordsCount = 0\n",
    "    chars = 0\n",
    "    with open(fileName, 'r') as file:\n",
    "\n",
    "            \n",
    "        data = file.read()\n",
    "        lines = len(data.splitlines())\n",
    "\n",
    "        for characters in data:\n",
    "            chars += 1\n",
    "            \n",
    "        for words in data.splitlines():\n",
    "            wordsCount  += len(words.split())\n",
    "        \n",
    "        return (lines, wordsCount, chars)\n",
    "                \n",
    "noOfLinesWordsChars('sample.txt')"
   ]
  },
  {
   "cell_type": "code",
   "execution_count": 11,
   "id": "e13a4174",
   "metadata": {},
   "outputs": [],
   "source": [
    "### Assignment 9: Merging Multiple Files\n",
    "\n",
    "# Write a function that merges the contents of multiple files into a single file named `merged.txt`.\n",
    "\n",
    "def mergedFile(fileList, output):\n",
    "    with open(output, 'w') as file:\n",
    "        for files in fileList:\n",
    "            with open(files, 'r') as infile:\n",
    "                file.write(infile.read() + '\\n')\n",
    "                \n",
    "mergedFile(['sample.txt', 'write.txt'], 'merged.txt')"
   ]
  },
  {
   "cell_type": "code",
   "execution_count": 4,
   "id": "4d5bda59",
   "metadata": {},
   "outputs": [],
   "source": [
    "### Assignment 10: Splitting a Large File\n",
    "\n",
    "# Write a function that splits a large file named `large.txt` into smaller files of 100 lines each.\n",
    "\n",
    "def splitFile(fileName, partsToBreak):\n",
    "    with open(fileName, 'r') as file:\n",
    "        data = file.readlines()\n",
    "        \n",
    "        fileNameForWrite = 0\n",
    "        for i in range(0, len(data), partsToBreak):\n",
    "            fileNameForWrite = fileNameForWrite+1\n",
    "            with open(f\"{fileNameForWrite}.txt\" , 'w') as outFile:\n",
    "                outFile.writelines(data[i:i+partsToBreak])\n",
    "                \n",
    "splitFile('merged.txt', 1)\n"
   ]
  },
  {
   "cell_type": "code",
   "execution_count": 20,
   "id": "fa755f27",
   "metadata": {},
   "outputs": [],
   "source": [
    "### Assignment 11: Creating a Log File\n",
    "\n",
    "# Write a function that creates a log file named `activity.log` and writes log messages with timestamps.\n",
    "import datetime\n",
    "\n",
    "\n",
    "def logFile(fileName):\n",
    "    with open(fileName, 'w') as file:\n",
    "        file.write(f\"{datetime.datetime.now().isoformat()}\")\n",
    "                \n",
    "logFile('activity.log')"
   ]
  },
  {
   "cell_type": "code",
   "execution_count": 23,
   "id": "8b5cb87c",
   "metadata": {},
   "outputs": [],
   "source": [
    "### Assignment 12: Binary File Operations\n",
    "\n",
    "# Write a function that reads a binary file named `image.bin` and writes its contents to another binary file named `copy_image.bin`.\n",
    "\n",
    "def binaryFileOperations(source, destination):\n",
    "    with open(source, 'rb') as src:\n",
    "        with open(destination, 'wb') as dest:\n",
    "            dest.write(src.read())\n",
    "            \n",
    "binaryFileOperations('image.bin', 'copy_image.bin')\n"
   ]
  },
  {
   "cell_type": "code",
   "execution_count": 40,
   "id": "414915db",
   "metadata": {},
   "outputs": [
    {
     "data": {
      "text/plain": [
       "[]"
      ]
     },
     "execution_count": 40,
     "metadata": {},
     "output_type": "execute_result"
    }
   ],
   "source": [
    "### Assignment 13: CSV File Operations\n",
    "\n",
    "# Write a function that reads a CSV file named `data.csv` and prints its contents as a list of dictionaries.\n",
    "import csv\n",
    "\n",
    "def readCsv(fileName):\n",
    "    with open(fileName, 'r') as file:\n",
    "        reader = csv.DictReader(file)\n",
    "        return list(reader)\n",
    "        \n",
    "        \n",
    "readCsv('csvfile.csv')"
   ]
  },
  {
   "cell_type": "code",
   "execution_count": 44,
   "id": "06b13d68",
   "metadata": {},
   "outputs": [
    {
     "name": "stdout",
     "output_type": "stream",
     "text": [
      "{'name': 'John', 'age': 30, 'city': 'New York'}\n"
     ]
    }
   ],
   "source": [
    "### Assignment 14: JSON File Operations\n",
    "\n",
    "# Write a function that reads a JSON file named `data.json` and prints its contents as a Python dictionary.\n",
    "import json\n",
    "\n",
    "def readJson(fileName):\n",
    "    with open(fileName, 'r') as file:\n",
    "        jsonData = json.load(file)\n",
    "        print(jsonData)\n",
    "        \n",
    "readJson('data.json')\n"
   ]
  },
  {
   "cell_type": "code",
   "execution_count": 45,
   "id": "e439c546",
   "metadata": {},
   "outputs": [
    {
     "name": "stdout",
     "output_type": "stream",
     "text": [
      "{'name': 'John', 'age': 30, 'city': 'New York'}\n"
     ]
    }
   ],
   "source": [
    "### Assignment 15: File Permission Handling\n",
    "\n",
    "# Write a function that attempts to read a file named `protected.txt` and handles any permission errors gracefully by printing an error message.\n",
    "\n",
    "def readJson(fileName):\n",
    "    try:\n",
    "        with open(fileName, 'r') as file:\n",
    "            jsonData = json.load(file)\n",
    "            print(jsonData)\n",
    "    except PermissionError as p:\n",
    "        print(p)\n",
    "    except Exception as e:\n",
    "        print(e)\n",
    "        \n",
    "readJson('data.json')\n"
   ]
  },
  {
   "cell_type": "code",
   "execution_count": null,
   "id": "222a66f1",
   "metadata": {},
   "outputs": [],
   "source": []
  }
 ],
 "metadata": {
  "kernelspec": {
   "display_name": "Python 3",
   "language": "python",
   "name": "python3"
  },
  "language_info": {
   "codemirror_mode": {
    "name": "ipython",
    "version": 3
   },
   "file_extension": ".py",
   "mimetype": "text/x-python",
   "name": "python",
   "nbconvert_exporter": "python",
   "pygments_lexer": "ipython3",
   "version": "3.13.0"
  }
 },
 "nbformat": 4,
 "nbformat_minor": 5
}
