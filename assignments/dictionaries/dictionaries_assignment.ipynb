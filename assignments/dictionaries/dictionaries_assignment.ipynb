{
 "cells": [
  {
   "cell_type": "markdown",
   "metadata": {},
   "source": [
    "# Module 3: Data Structures Assignments\n",
    "## Lesson 3.4: Dictionaries\n",
    "### Assignment 1: Creating and Accessing Dictionaries\n",
    "\n",
    "Create a dictionary with the first 10 positive integers as keys and their squares as values. Print the dictionary.\n",
    "\n",
    "### Assignment 2: Accessing Dictionary Elements\n",
    "\n",
    "Print the value of the key 5 and the keys of the dictionary created in Assignment 1.\n",
    "\n",
    "### Assignment 3: Dictionary Methods\n",
    "\n",
    "Add a new key-value pair (11, 121) to the dictionary created in Assignment 1 and then remove the key-value pair with key 1. Print the modified dictionary.\n",
    "\n",
    "### Assignment 4: Iterating Over Dictionaries\n",
    "\n",
    "Iterate over the dictionary created in Assignment 1 and print each key-value pair.\n",
    "\n",
    "### Assignment 5: Dictionary Comprehensions\n",
    "\n",
    "Create a new dictionary containing the cubes of the first 10 positive integers using a dictionary comprehension. Print the new dictionary.\n",
    "\n",
    "### Assignment 6: Merging Dictionaries\n",
    "\n",
    "Create two dictionaries: one with keys as the first 5 positive integers and values as their squares, and another with keys as the next 5 positive integers and values as their squares. Merge these dictionaries into a single dictionary and print it.\n",
    "\n",
    "### Assignment 7: Nested Dictionaries\n",
    "\n",
    "Create a nested dictionary representing a student with keys 'name', 'age', 'grades', where 'grades' is another dictionary with keys 'math', 'science', and 'english'. Print the nested dictionary.\n",
    "\n",
    "### Assignment 8: Dictionary of Lists\n",
    "\n",
    "Create a dictionary where the keys are the first 5 positive integers and the values are lists containing the first 5 multiples of the key. Print the dictionary.\n",
    "\n",
    "### Assignment 9: Dictionary of Tuples\n",
    "\n",
    "Create a dictionary where the keys are the first 5 positive integers and the values are tuples containing the key and its square. Print the dictionary.\n",
    "\n",
    "### Assignment 10: Dictionary and List Conversion\n",
    "\n",
    "Create a dictionary with the first 5 positive integers as keys and their squares as values. Convert the dictionary to a list of tuples and print it.\n",
    "\n",
    "### Assignment 11: Dictionary Filtering\n",
    "\n",
    "Create a dictionary with the first 10 positive integers as keys and their squares as values. Create a new dictionary containing only the key-value pairs where the key is even. Print the new dictionary.\n",
    "\n",
    "### Assignment 12: Dictionary Key and Value Transformation\n",
    "\n",
    "Create a dictionary with the first 5 positive integers as keys and their squares as values. Create a new dictionary with keys and values swapped. Print the new dictionary.\n",
    "\n",
    "### Assignment 13: Default Dictionary\n",
    "\n",
    "Create a default dictionary where each key has a default value of an empty list. Add some elements to the lists and print the dictionary.\n",
    "\n",
    "### Assignment 14: Counting with Dictionaries\n",
    "\n",
    "Write a function that takes a string and returns a dictionary with the count of each character in the string. Print the dictionary.\n",
    "\n",
    "### Assignment 15: Dictionary and JSON\n",
    "\n",
    "Create a dictionary representing a book with keys 'title', 'author', 'year', and 'genre'. Convert the dictionary to a JSON string and print it."
   ]
  },
  {
   "cell_type": "code",
   "execution_count": 1,
   "metadata": {},
   "outputs": [
    {
     "name": "stdout",
     "output_type": "stream",
     "text": [
      "{1: 1, 2: 4, 3: 9, 4: 16, 5: 25, 6: 36, 7: 49, 8: 64, 9: 81, 10: 100}\n"
     ]
    }
   ],
   "source": [
    "# Module 3: Data Structures Assignments\n",
    "## Lesson 3.4: Dictionaries\n",
    "### Assignment 1: Creating and Accessing Dictionaries\n",
    "\n",
    "# Create a dictionary with the first 10 positive integers as keys and their squares as values. Print the dictionary.\n",
    "\n",
    "dict ={x: x**2 for x in range(1,11)}\n",
    "print(dict)"
   ]
  },
  {
   "cell_type": "code",
   "execution_count": 8,
   "id": "a436e101",
   "metadata": {},
   "outputs": [
    {
     "name": "stdout",
     "output_type": "stream",
     "text": [
      "25\n",
      "dict_keys([1, 2, 3, 4, 5, 6, 7, 8, 9, 10])\n"
     ]
    }
   ],
   "source": [
    "### Assignment 2: Accessing Dictionary Elements\n",
    "\n",
    "# Print the value of the key 5 and the keys of the dictionary created in Assignment 1.\n",
    "\n",
    "print(dict[5])\n",
    "print(dict.keys())"
   ]
  },
  {
   "cell_type": "code",
   "execution_count": 11,
   "id": "097b0bb8",
   "metadata": {},
   "outputs": [
    {
     "name": "stdout",
     "output_type": "stream",
     "text": [
      "{2: 4, 3: 9, 4: 16, 5: 25, 6: 36, 7: 49, 8: 64, 9: 81, 10: 100, 11: 121}\n"
     ]
    }
   ],
   "source": [
    "### Assignment 3: Dictionary Methods\n",
    "\n",
    "# Add a new key-value pair (11, 121) to the dictionary created in Assignment 1 \n",
    "# and then remove the key-value pair with key 1. Print the modified dictionary.\n",
    "\n",
    "dict[11] = 121\n",
    "dict.pop(1)\n",
    "print(dict)\n"
   ]
  },
  {
   "cell_type": "code",
   "execution_count": 17,
   "id": "2c38b828",
   "metadata": {},
   "outputs": [
    {
     "name": "stdout",
     "output_type": "stream",
     "text": [
      "2 : 4\n",
      "3 : 9\n",
      "4 : 16\n",
      "5 : 25\n",
      "6 : 36\n",
      "7 : 49\n",
      "8 : 64\n",
      "9 : 81\n",
      "10 : 100\n",
      "11 : 121\n"
     ]
    }
   ],
   "source": [
    "### Assignment 4: Iterating Over Dictionaries\n",
    "\n",
    "# Iterate over the dictionary created in Assignment 1 and print each key-value pair.\n",
    "\n",
    "for key,value in dict.items():\n",
    "    print(key, \":\" ,value)"
   ]
  },
  {
   "cell_type": "code",
   "execution_count": 18,
   "id": "b902e1aa",
   "metadata": {},
   "outputs": [
    {
     "name": "stdout",
     "output_type": "stream",
     "text": [
      "{1: 1, 2: 8, 3: 27, 4: 64, 5: 125, 6: 216, 7: 343, 8: 512, 9: 729, 10: 1000}\n"
     ]
    }
   ],
   "source": [
    "### Assignment 5: Dictionary Comprehensions\n",
    "\n",
    "# Create a new dictionary containing the cubes of the first \n",
    "# 10 positive integers using a dictionary comprehension. Print the new dictionary.\n",
    "\n",
    "\n",
    "print({x:x**3 for x in range(1,11)})"
   ]
  },
  {
   "cell_type": "code",
   "execution_count": 22,
   "id": "f8d4beec",
   "metadata": {},
   "outputs": [
    {
     "name": "stdout",
     "output_type": "stream",
     "text": [
      "{1: 1, 2: 4, 3: 9, 4: 16, 5: 25, 6: 36, 7: 49, 8: 64, 9: 81, 10: 100}\n"
     ]
    }
   ],
   "source": [
    "### Assignment 6: Merging Dictionaries\n",
    "\n",
    "# Create two dictionaries: one with keys as the first 5 positive integers and values as their squares, \n",
    "# and another with keys as the next 5 positive integers and values as their squares. \n",
    "# Merge these dictionaries into a single dictionary and print it.\n",
    "\n",
    "\n",
    "dictA = {x: x**2 for x in range(1,6)}\n",
    "dictB = {x: x **2 for x in range(6,11)}\n",
    "dictA.update(dictB)\n",
    "print(dictA)"
   ]
  },
  {
   "cell_type": "code",
   "execution_count": 25,
   "id": "556bfb64",
   "metadata": {},
   "outputs": [
    {
     "name": "stdout",
     "output_type": "stream",
     "text": [
      "{'name': 'chintu', 'age': 20, 'grades': {'math': 20, 'science': 50, 'english': 90}}\n"
     ]
    }
   ],
   "source": [
    "### Assignment 7: Nested Dictionaries\n",
    "\n",
    "# Create a nested dictionary representing a student with keys 'name', 'age', 'grades', \n",
    "# where 'grades' is another dictionary with keys 'math', 'science', and 'english'. Print the nested dictionary.\n",
    "\n",
    "print(\n",
    "    {\n",
    "        \"name\":\"chintu\",\n",
    "        \"age\" : 20,\n",
    "        \"grades\": {\n",
    "            \"math\" : 20,\n",
    "            \"science\" : 50,\n",
    "            \"english\" : 90\n",
    "        }\n",
    "    }\n",
    ")"
   ]
  },
  {
   "cell_type": "code",
   "execution_count": 30,
   "id": "31af3403",
   "metadata": {},
   "outputs": [
    {
     "name": "stdout",
     "output_type": "stream",
     "text": [
      "{1: [1, 2, 3, 4, 5], 2: [2, 4, 6, 8, 10], 3: [3, 6, 9, 12, 15], 4: [4, 8, 12, 16, 20], 5: [5, 10, 15, 20, 25]}\n"
     ]
    }
   ],
   "source": [
    "### Assignment 8: Dictionary of Lists\n",
    "\n",
    "# Create a dictionary where the keys are the first 5 positive integers \n",
    "# and the values are lists containing the first 5 multiples of the key. Print the dictionary.\n",
    "\n",
    "dict = {\n",
    "    x:[x*n for n in range(1,6)] for x in range(1,6)\n",
    "    }\n",
    "print(dict)"
   ]
  },
  {
   "cell_type": "code",
   "execution_count": 31,
   "id": "5bb7e092",
   "metadata": {},
   "outputs": [
    {
     "name": "stdout",
     "output_type": "stream",
     "text": [
      "{1: (1, 1), 2: (2, 4), 3: (3, 9), 4: (4, 16), 5: (5, 25)}\n"
     ]
    }
   ],
   "source": [
    "### Assignment 9: Dictionary of Tuples\n",
    "\n",
    "# Create a dictionary where the keys are the first 5 positive integers \n",
    "# and the values are tuples containing the key and its square. Print the dictionary.\n",
    "\n",
    "print({i: (i, i**2) for i in range(1, 6)})"
   ]
  },
  {
   "cell_type": "code",
   "execution_count": 33,
   "id": "d7bd3249",
   "metadata": {},
   "outputs": [
    {
     "name": "stdout",
     "output_type": "stream",
     "text": [
      "[(1, 2), (2, 4), (3, 6), (4, 8), (5, 10)]\n"
     ]
    }
   ],
   "source": [
    "### Assignment 10: Dictionary and List Conversion\n",
    "\n",
    "# Create a dictionary with the first 5 positive integers as keys and their squares as values. \n",
    "# Convert the dictionary to a list of tuples and print it.\n",
    "\n",
    "dict= {x: x*2 for x in range(1, 6)}\n",
    "list_of_tuples = list(dict.items())\n",
    "print(list_of_tuples)"
   ]
  },
  {
   "cell_type": "code",
   "execution_count": 38,
   "id": "a1ab968b",
   "metadata": {},
   "outputs": [
    {
     "name": "stdout",
     "output_type": "stream",
     "text": [
      "{2: 4, 4: 16, 6: 36, 8: 64, 10: 100}\n"
     ]
    }
   ],
   "source": [
    "### Assignment 11: Dictionary Filtering\n",
    "\n",
    "# Create a dictionary with the first 10 positive integers as keys and their squares as values. \n",
    "# Create a new dictionary containing only the key-value pairs where the key is even. Print the new dictionary.\n",
    "\n",
    "dictA = {x: x**2 for x in range(1,11)}\n",
    "dictB = {k:v for k,v in dictA.items() if(k%2==0)}\n",
    "print(dictB)"
   ]
  },
  {
   "cell_type": "code",
   "execution_count": 39,
   "id": "e2059eae",
   "metadata": {},
   "outputs": [
    {
     "name": "stdout",
     "output_type": "stream",
     "text": [
      "{1: 1, 2: 4, 3: 9, 4: 16, 5: 25}\n",
      "{1: 1, 4: 2, 9: 3, 16: 4, 25: 5}\n"
     ]
    }
   ],
   "source": [
    "### Assignment 12: Dictionary Key and Value Transformation\n",
    "\n",
    "# Create a dictionary with the first 5 positive integers as keys and their squares as values. \n",
    "# Create a new dictionary with keys and values swapped. Print the new dictionary.\n",
    "\n",
    "dictA = {x: x**2 for x in range(1,6)}\n",
    "dictB = {v:k for k,v in dictA.items()}\n",
    "\n",
    "print(dictA)\n",
    "print(dictB)"
   ]
  },
  {
   "cell_type": "code",
   "execution_count": 46,
   "id": "ce4e0ac0",
   "metadata": {},
   "outputs": [
    {
     "name": "stdout",
     "output_type": "stream",
     "text": [
      "{1: [], 2: [33], 3: [], 4: [], 5: [], 6: [], 7: [], 8: [], 9: [], 10: []}\n"
     ]
    }
   ],
   "source": [
    "### Assignment 13: Default Dictionary\n",
    "\n",
    "# Create a default dictionary where each key has a default value of an empty list. \n",
    "# Add some elements to the lists and print the dictionary.\n",
    "\n",
    "dictA = {k:[] for k in range(1,11)}\n",
    "dictA[2].append(33)\n",
    "print(dictA)\n",
    "\n"
   ]
  },
  {
   "cell_type": "code",
   "execution_count": 55,
   "id": "239d39eb",
   "metadata": {},
   "outputs": [
    {
     "name": "stdout",
     "output_type": "stream",
     "text": [
      "{'h': 1, 'e': 1, 'l': 3, 'o': 2, ' ': 1, 'w': 1, 'r': 1, 'd': 1}\n"
     ]
    }
   ],
   "source": [
    "### Assignment 14: Counting with Dictionaries\n",
    "\n",
    "# Write a function that takes a string \n",
    "# and returns a dictionary with the count of each character in the string. Print the dictionary.\n",
    "\n",
    "def count_chars(s):\n",
    "    dict = {}\n",
    "    for char in s:\n",
    "        dict[char] = dict.get(char,0) + 1\n",
    "\n",
    "    return dict\n",
    "\n",
    "string = \"hello world\"\n",
    "print(count_chars(string))"
   ]
  },
  {
   "cell_type": "code",
   "execution_count": 57,
   "id": "2b5db185",
   "metadata": {},
   "outputs": [
    {
     "name": "stdout",
     "output_type": "stream",
     "text": [
      "{\"title\": \"hello world\", \"author\": \"pp pizon\", \"year\": 1800, \"genre\": \"comedy\"}\n"
     ]
    }
   ],
   "source": [
    "### Assignment 15: Dictionary and JSON\n",
    "\n",
    "# Create a dictionary representing a book with keys 'title', 'author', 'year', and 'genre'. \n",
    "# Convert the dictionary to a JSON string and print it.\n",
    "\n",
    "import json\n",
    "\n",
    "book = {\n",
    "    'title': 'hello world',\n",
    "    'author': 'pp pizon',\n",
    "    'year': 1800,\n",
    "    'genre': 'comedy'\n",
    "}\n",
    "print(json.dumps(book))"
   ]
  },
  {
   "cell_type": "code",
   "execution_count": null,
   "id": "4117f145",
   "metadata": {},
   "outputs": [],
   "source": []
  }
 ],
 "metadata": {
  "kernelspec": {
   "display_name": "Python 3",
   "language": "python",
   "name": "python3"
  },
  "language_info": {
   "codemirror_mode": {
    "name": "ipython",
    "version": 3
   },
   "file_extension": ".py",
   "mimetype": "text/x-python",
   "name": "python",
   "nbconvert_exporter": "python",
   "pygments_lexer": "ipython3",
   "version": "3.12.3"
  }
 },
 "nbformat": 4,
 "nbformat_minor": 5
}
