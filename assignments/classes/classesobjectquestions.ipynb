{
 "cells": [
  {
   "cell_type": "markdown",
   "metadata": {},
   "source": [
    "# Module: Classes and Objects Assignments"
   ]
  },
  {
   "cell_type": "code",
   "execution_count": 2,
   "metadata": {},
   "outputs": [
    {
     "name": "stdout",
     "output_type": "stream",
     "text": [
      "2020 2021 civic\n"
     ]
    }
   ],
   "source": [
    "### Assignment 1: Basic Class and Object Creation\n",
    "\n",
    "# Create a class named `Car` with attributes `make`, `model`, and `year`. Create an object of the class and print its attributes.\n",
    "\n",
    "class Car():\n",
    "    \n",
    "    def __init__(self, make, model, year):\n",
    "        self.make = make\n",
    "        self.model = model\n",
    "        self.year = year\n",
    "        \n",
    "car = Car(2020, \"civic\", 2021)\n",
    "print(car.make, car.year, car.model)"
   ]
  },
  {
   "cell_type": "code",
   "execution_count": 11,
   "id": "387ab279",
   "metadata": {},
   "outputs": [
    {
     "name": "stdout",
     "output_type": "stream",
     "text": [
      "engine starts\n"
     ]
    }
   ],
   "source": [
    "### Assignment 2: Methods in Class\n",
    "\n",
    "# Add a method named `start_engine` to the `Car` \n",
    "# class that prints a message when the engine starts. Create an object of the class and call the method.\n",
    "\n",
    "\n",
    "class Car:        \n",
    "    def __init__(self, make, model, year):\n",
    "        self.make = make\n",
    "        self.model = model\n",
    "        self.year = year\n",
    "    def start_engine(self):\n",
    "        print(\"engine starts\")\n",
    "        \n",
    "car = Car(2020, \"civic\", 2021)\n",
    "car.start_engine()\n"
   ]
  },
  {
   "cell_type": "code",
   "execution_count": 13,
   "id": "c352066d",
   "metadata": {},
   "outputs": [
    {
     "name": "stdout",
     "output_type": "stream",
     "text": [
      "yash 26\n"
     ]
    }
   ],
   "source": [
    "### Assignment 3: Class with Constructor\n",
    "\n",
    "# Create a class named `Student` with attributes `name` and `age`. \n",
    "# Use a constructor to initialize these attributes. Create an object of the class and print its attributes.\n",
    "\n",
    "class Student:\n",
    "    \n",
    "    def __init__(self, name, age):\n",
    "        self.name = name\n",
    "        self.age = age\n",
    "        \n",
    "\n",
    "student = Student(\"yash\", 26)\n",
    "print(student.name, student.age)"
   ]
  },
  {
   "cell_type": "code",
   "execution_count": 15,
   "id": "7c1196c4",
   "metadata": {},
   "outputs": [
    {
     "name": "stdout",
     "output_type": "stream",
     "text": [
      "500\n",
      "1000\n"
     ]
    }
   ],
   "source": [
    "### Assignment 4: Class with Private Attributes\n",
    "\n",
    "# Create a class named `BankAccount` with private attributes `account_number` and `balance`. \n",
    "# Add methods to deposit and withdraw money, and to check the balance. Create an object of the class and perform some operations.\n",
    "\n",
    "class BankAccount():\n",
    "    \n",
    "    def depositMoney(self, amount):\n",
    "        self.balance += amount\n",
    "        \n",
    "    def balance(self):\n",
    "        return self.balance\n",
    "    \n",
    "    def __init__(self, account_number, balance):\n",
    "        self.account_number = account_number\n",
    "        self.balance = balance\n",
    "        \n",
    "bankAcc = BankAccount('123456', 0)\n",
    "bankAcc.depositMoney(500)\n",
    "print(bankAcc.balance)\n",
    "bankAcc.depositMoney(500)\n",
    "print(bankAcc.balance)"
   ]
  },
  {
   "cell_type": "code",
   "execution_count": 20,
   "id": "308fbfbb",
   "metadata": {},
   "outputs": [
    {
     "name": "stdout",
     "output_type": "stream",
     "text": [
      "yash 26 1\n"
     ]
    }
   ],
   "source": [
    "### Assignment 5: Class Inheritance\n",
    "\n",
    "# Create a base class named `Person` with attributes `name` and `age`. Create a derived class named `Employee` that inherits from `Person` \n",
    "# and adds an attribute `employee_id`. Create an object of the derived class and print its attributes.\n",
    "\n",
    "class Person():\n",
    "    \n",
    "    def __init__(self, name, age):\n",
    "        self.name = name\n",
    "        self.age = age\n",
    "        \n",
    "class Employee(Person):\n",
    "    \n",
    "    def __init__(self, name, age, employee_id):\n",
    "        super().__init__(name, age)\n",
    "        self.employee_id = employee_id\n",
    "        \n",
    "\n",
    "emp = Employee(\"yash\" , 26, 1)\n",
    "print(emp.name, emp.age, emp.employee_id)"
   ]
  },
  {
   "cell_type": "code",
   "execution_count": 25,
   "id": "11e4a26e",
   "metadata": {},
   "outputs": [
    {
     "name": "stdout",
     "output_type": "stream",
     "text": [
      "yash, 26, 1\n",
      "yash, 26, 1\n"
     ]
    }
   ],
   "source": [
    "### Assignment 6: Method Overriding\n",
    "\n",
    "# In the `Employee` class, override the `__str__` method to \n",
    "# return a string representation of the object. Create an object of the class and print it.\n",
    "\n",
    "\n",
    "class Employee(Person):\n",
    "    \n",
    "    def __init__(self, name, age, employee_id):\n",
    "        super().__init__(name, age)\n",
    "        self.employee_id = employee_id\n",
    "        \n",
    "    def __str__(self):\n",
    "        return f\"{self.name}, {self.age}, {self.employee_id}\"\n",
    "    \n",
    "emp = Employee(\"yash\" , 26, 1)\n",
    "print(emp.__str__())\n",
    "print(emp)"
   ]
  },
  {
   "cell_type": "code",
   "execution_count": 37,
   "id": "764d0250",
   "metadata": {},
   "outputs": [
    {
     "name": "stdout",
     "output_type": "stream",
     "text": [
      "110063 yash Delhi\n",
      "26 yash 110063\n"
     ]
    }
   ],
   "source": [
    "### Assignment 7: Class Composition\n",
    "\n",
    "# Create a class named `Address` with attributes `street`, `city`, and `zipcode`. \n",
    "# Create a class named `Person` that has an `Address` object as an attribute. Create an object of the `Person` class and print its address.\n",
    "\n",
    "class Address():\n",
    "    def __init__(self, street, city, zipcode):\n",
    "        self.street = street\n",
    "        self.city = city \n",
    "        self.zipcode = zipcode\n",
    "        \n",
    "class Person(Address):\n",
    "    def __init__(self, name, age, address):\n",
    "        self.name = name\n",
    "        self.age = age\n",
    "        self.address = address\n",
    "\n",
    "address = Address(\"street A\", \"Delhi\", 110063)\n",
    "person = Person(\"yash\", 26 , address)\n",
    "print(person.address.zipcode, person.name, person.address.city)\n",
    "\n",
    "\n",
    "class Address():\n",
    "    def __init__(self, street, city, zipcode):\n",
    "        self.street = street\n",
    "        self.city = city \n",
    "        self.zipcode = zipcode\n",
    "        \n",
    "class Person(Address):\n",
    "    pass\n",
    "\n",
    "person = Person(\"yash\", 26 , 110063)\n",
    "print(person.city, person.street, person.zipcode)"
   ]
  },
  {
   "cell_type": "code",
   "execution_count": 66,
   "id": "e1c85e32",
   "metadata": {},
   "outputs": [
    {
     "name": "stdout",
     "output_type": "stream",
     "text": [
      "1\n",
      "2\n",
      "4\n"
     ]
    }
   ],
   "source": [
    "### Assignment 8: Class with Class Variables\n",
    "\n",
    "# Create a class named `Counter` with a class variable `count`. \n",
    "# Each time an object is created, increment the count. Add a method to get the current count. Create multiple objects and print the count.\n",
    "\n",
    "\n",
    "class Counter():\n",
    "    count = 0\n",
    "    \n",
    "    def __init__(self):\n",
    "        Counter.count +=1\n",
    "    \n",
    "    def getCount(self):\n",
    "        return Counter.count\n",
    "    \n",
    "    @classmethod\n",
    "    def getCountByClassMethod(cls):\n",
    "        return cls.count\n",
    "        \n",
    "counter = Counter()\n",
    "print(counter.getCount())\n",
    "Counter()\n",
    "print(counter.getCount())\n",
    "Counter()\n",
    "Counter()\n",
    "print(counter.getCountByClassMethod())"
   ]
  },
  {
   "cell_type": "code",
   "execution_count": 67,
   "id": "43b158a1",
   "metadata": {},
   "outputs": [
    {
     "name": "stdout",
     "output_type": "stream",
     "text": [
      "7.0710678118654755\n"
     ]
    }
   ],
   "source": [
    "### Assignment 9: Static Methods\n",
    "\n",
    "# Create a class named `MathOperations` \n",
    "# with a static method to calculate the square root of a number. Call the static method without creating an object.\n",
    "\n",
    "import math\n",
    "\n",
    "class MathOperations():\n",
    "    @staticmethod\n",
    "    def sqrt(num):\n",
    "        return math.sqrt(num)\n",
    "    \n",
    "\n",
    "print(MathOperations.sqrt(50))"
   ]
  },
  {
   "cell_type": "code",
   "execution_count": 74,
   "id": "39f775c5",
   "metadata": {},
   "outputs": [
    {
     "name": "stdout",
     "output_type": "stream",
     "text": [
      "29\n",
      "12\n",
      "15\n",
      "12\n"
     ]
    }
   ],
   "source": [
    "### Assignment 10: Class with Properties\n",
    "\n",
    "# Create a class named `Rectangle` with private attributes `length` and `width`. \n",
    "# Use properties to get and set these attributes. Create an object of the class and test the properties.\n",
    "\n",
    "class Rectangle:\n",
    "    def __init__(self, length, width):\n",
    "        self.__length = length\n",
    "        self.__width = width\n",
    "\n",
    "\n",
    "    @property\n",
    "    def length(self):\n",
    "        return self.__length\n",
    "    \n",
    "    @property\n",
    "    def width(self):\n",
    "        return self.__width\n",
    "    \n",
    "    @length.setter\n",
    "    def length(self, length):\n",
    "        self.__length = length\n",
    "    \n",
    "    @width.setter\n",
    "    def width(self, width):\n",
    "        self.__width = width\n",
    "    \n",
    "rect = Rectangle(29,12)\n",
    "\n",
    "print(rect.length)\n",
    "print(rect.width)\n",
    "\n",
    "rect.length = 15\n",
    "print(rect.length)\n",
    "print(rect.width)"
   ]
  },
  {
   "cell_type": "code",
   "execution_count": 83,
   "id": "867e8e75",
   "metadata": {},
   "outputs": [
    {
     "name": "stdout",
     "output_type": "stream",
     "text": [
      "25\n",
      "50.26548245743669\n"
     ]
    }
   ],
   "source": [
    "### Assignment 11: Abstract Base Class\n",
    "\n",
    "# Create an abstract base class named `Shape` with an abstract method `area`. \n",
    "# Create derived classes `Circle` and `Square` that implement the `area` method. Create objects of the derived classes and call the `area` method.\n",
    "\n",
    "from abc import ABC, abstractmethod\n",
    "import math\n",
    "\n",
    "class Shape(ABC):\n",
    "    \n",
    "    @abstractmethod\n",
    "    def area():\n",
    "        pass\n",
    "    \n",
    "class Circle(Shape):\n",
    "    \n",
    "    def __init__(self, radius):\n",
    "        self.radius = radius\n",
    "        \n",
    "    def area(self):\n",
    "        return (math.pi * self.radius * self.radius)\n",
    "    \n",
    "class Square(Shape):\n",
    "    \n",
    "    def __init__(self, side):\n",
    "        self.side = side\n",
    "    \n",
    "    def area(self):\n",
    "        return (self.side * self.side) \n",
    "    \n",
    "square = Square(5)\n",
    "print(square.area())\n",
    "\n",
    "cirlce = Circle(4)\n",
    "print(cirlce.area())\n"
   ]
  },
  {
   "cell_type": "code",
   "execution_count": 85,
   "id": "46835d28",
   "metadata": {},
   "outputs": [
    {
     "name": "stdout",
     "output_type": "stream",
     "text": [
      "Vector(6, 8)\n"
     ]
    }
   ],
   "source": [
    "### Assignment 12: Operator Overloading\n",
    "\n",
    "# Create a class named `Vector` with attributes `x` and `y`. Overload the `+` operator to add two `Vector` objects. \n",
    "# Create objects of the class and test the operator overloading.\n",
    "\n",
    "class Vector:\n",
    "    def __init__(self, x, y):\n",
    "        self.x = x\n",
    "        self.y = y\n",
    "\n",
    "    def __add__(self, other):\n",
    "        return Vector(self.x + other.x, self.y + other.y)\n",
    "\n",
    "    def __str__(self):\n",
    "        return f\"Vector({self.x}, {self.y})\"\n",
    "\n",
    "v1 = Vector(2, 3)\n",
    "v2 = Vector(4, 5)\n",
    "v3 = v1 + v2\n",
    "print(v3)"
   ]
  },
  {
   "cell_type": "code",
   "execution_count": 92,
   "id": "d7f590f5",
   "metadata": {},
   "outputs": [
    {
     "name": "stdout",
     "output_type": "stream",
     "text": [
      "500\n"
     ]
    },
    {
     "ename": "InsufficientBalanceError",
     "evalue": "Insufficient balance!",
     "output_type": "error",
     "traceback": [
      "\u001b[1;31m---------------------------------------------------------------------------\u001b[0m",
      "\u001b[1;31mInsufficientBalanceError\u001b[0m                  Traceback (most recent call last)",
      "Cell \u001b[1;32mIn[92], line 33\u001b[0m\n\u001b[0;32m     30\u001b[0m bankAcc\u001b[38;5;241m.\u001b[39mdepositMoney(\u001b[38;5;241m500\u001b[39m)\n\u001b[0;32m     31\u001b[0m \u001b[38;5;28mprint\u001b[39m(bankAcc\u001b[38;5;241m.\u001b[39mbalance)\n\u001b[1;32m---> 33\u001b[0m \u001b[43mbankAcc\u001b[49m\u001b[38;5;241;43m.\u001b[39;49m\u001b[43mwithdrawMoney\u001b[49m\u001b[43m(\u001b[49m\u001b[38;5;241;43m1000\u001b[39;49m\u001b[43m)\u001b[49m\n",
      "Cell \u001b[1;32mIn[92], line 18\u001b[0m, in \u001b[0;36mBankAccount.withdrawMoney\u001b[1;34m(self, amount)\u001b[0m\n\u001b[0;32m     16\u001b[0m \u001b[38;5;28;01mdef\u001b[39;00m \u001b[38;5;21mwithdrawMoney\u001b[39m(\u001b[38;5;28mself\u001b[39m, amount):\n\u001b[0;32m     17\u001b[0m     \u001b[38;5;28;01mif\u001b[39;00m(\u001b[38;5;28mself\u001b[39m\u001b[38;5;241m.\u001b[39mbalance \u001b[38;5;241m-\u001b[39m amount \u001b[38;5;241m<\u001b[39m \u001b[38;5;241m0\u001b[39m):\n\u001b[1;32m---> 18\u001b[0m         \u001b[38;5;28;01mraise\u001b[39;00m InsufficientBalanceError(\u001b[38;5;124m\"\u001b[39m\u001b[38;5;124mInsufficient balance!\u001b[39m\u001b[38;5;124m\"\u001b[39m)\n\u001b[0;32m     19\u001b[0m     \u001b[38;5;28;01melse\u001b[39;00m :\n\u001b[0;32m     20\u001b[0m         \u001b[38;5;28mself\u001b[39m\u001b[38;5;241m.\u001b[39mbalance \u001b[38;5;241m-\u001b[39m\u001b[38;5;241m=\u001b[39m amount\n",
      "\u001b[1;31mInsufficientBalanceError\u001b[0m: Insufficient balance!"
     ]
    }
   ],
   "source": [
    "### Assignment 13: Class with Custom Exception\n",
    "\n",
    "# Create a custom exception named `InsufficientBalanceError`. \n",
    "# In the `BankAccount` class, raise this exception when a withdrawal amount is greater than the balance. \n",
    "# Handle the exception and print an appropriate message.\n",
    "\n",
    "class InsufficientBalanceError(Exception):\n",
    "    pass\n",
    "\n",
    "\n",
    "class BankAccount():\n",
    "    \n",
    "    def depositMoney(self, amount):\n",
    "        self.balance += amount\n",
    "        \n",
    "    def withdrawMoney(self, amount):\n",
    "        if(self.balance - amount < 0):\n",
    "            raise InsufficientBalanceError(\"Insufficient balance!\")\n",
    "        else :\n",
    "            self.balance -= amount    \n",
    "            \n",
    "    def balance(self):\n",
    "        return self.balance\n",
    "    \n",
    "    def __init__(self, account_number, balance):\n",
    "        self.account_number = account_number\n",
    "        self.balance = balance\n",
    "        \n",
    "bankAcc = BankAccount('123456', 0)\n",
    "bankAcc.depositMoney(500)\n",
    "print(bankAcc.balance)\n",
    "\n",
    "bankAcc.withdrawMoney(1000)\n"
   ]
  },
  {
   "cell_type": "code",
   "execution_count": 94,
   "id": "438562bd",
   "metadata": {},
   "outputs": [
    {
     "name": "stdout",
     "output_type": "stream",
     "text": [
      "hello\n",
      "\n"
     ]
    }
   ],
   "source": [
    "### Assignment 14: Class with Context Manager\n",
    "\n",
    "# Create a class named `FileManager` that implements the context manager protocol to open and close a file. \n",
    "# Use this class to read the contents of a file.\n",
    "\n",
    "class FileManager:\n",
    "    def __init__(self, filename, mode):\n",
    "        self.filename = filename\n",
    "        self.mode = mode\n",
    "\n",
    "    def __enter__(self):\n",
    "        self.file = open(self.filename, self.mode)\n",
    "        return self.file\n",
    "\n",
    "    def __exit__(self, exc_type, exc_value, traceback):\n",
    "        self.file.close()\n",
    "\n",
    "\n",
    "with FileManager('sample.txt', 'r') as file:\n",
    "    content = file.read()\n",
    "    print(content)"
   ]
  },
  {
   "cell_type": "code",
   "execution_count": 101,
   "id": "04193670",
   "metadata": {},
   "outputs": [
    {
     "name": "stdout",
     "output_type": "stream",
     "text": [
      "7.0\n"
     ]
    }
   ],
   "source": [
    "### Assignment 15: Chaining Methods\n",
    "\n",
    "# Create a class named `Calculator` with methods to add, subtract, multiply, and divide. \n",
    "# Each method should return the object itself to allow method chaining. Create an object and chain multiple method calls.\n",
    "\n",
    "class Calculator:\n",
    "    def __init__(self, value=0):\n",
    "        self.value = value\n",
    "\n",
    "    def add(self, amount):\n",
    "        self.value += amount\n",
    "        return self\n",
    "\n",
    "    def subtract(self, amount):\n",
    "        self.value -= amount\n",
    "        return self\n",
    "\n",
    "    def multiply(self, amount):\n",
    "        self.value *= amount\n",
    "        return self\n",
    "\n",
    "    def divide(self, amount):\n",
    "        if amount != 0:\n",
    "            self.value /= amount\n",
    "        else:\n",
    "            print(\"Cannot divide by zero!\")\n",
    "        return self\n",
    "\n",
    "calc = Calculator()\n",
    "calc.add(10).subtract(3).multiply(2).divide(2)\n",
    "print(calc.value)\n"
   ]
  },
  {
   "cell_type": "code",
   "execution_count": null,
   "id": "1314a8fd",
   "metadata": {},
   "outputs": [],
   "source": []
  }
 ],
 "metadata": {
  "kernelspec": {
   "display_name": "Python 3",
   "language": "python",
   "name": "python3"
  },
  "language_info": {
   "codemirror_mode": {
    "name": "ipython",
    "version": 3
   },
   "file_extension": ".py",
   "mimetype": "text/x-python",
   "name": "python",
   "nbconvert_exporter": "python",
   "pygments_lexer": "ipython3",
   "version": "3.13.0"
  }
 },
 "nbformat": 4,
 "nbformat_minor": 5
}
