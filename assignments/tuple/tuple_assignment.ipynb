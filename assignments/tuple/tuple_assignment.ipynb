{
 "cells": [
  {
   "cell_type": "markdown",
   "id": "6cade624",
   "metadata": {},
   "source": [
    "# Module 3: Data Structures Assignments\n"
   ]
  },
  {
   "cell_type": "code",
   "execution_count": 1,
   "metadata": {},
   "outputs": [
    {
     "name": "stdout",
     "output_type": "stream",
     "text": [
      "(1, 2, 3, 4, 5, 6, 7, 8, 9, 10)\n"
     ]
    }
   ],
   "source": [
    "### Assignment 1: Creating and Accessing Tuples\n",
    "\n",
    "# Create a tuple with the first 10 positive integers. Print the tuple.\n",
    "\n",
    "tpl = tuple(range(1, 11))\n",
    "print(tpl)\n",
    "\n"
   ]
  },
  {
   "cell_type": "code",
   "execution_count": 7,
   "id": "f1ea2c35",
   "metadata": {},
   "outputs": [
    {
     "name": "stdout",
     "output_type": "stream",
     "text": [
      "1\n",
      "6\n",
      "10\n"
     ]
    }
   ],
   "source": [
    "### Assignment 2: Accessing Tuple Elements\n",
    "\n",
    "# Print the first, middle, and last elements of the tuple created in Assignment 1.\n",
    "\n",
    "\n",
    "print(tpl[0]);\n",
    "print(tpl[len(tpl)//2])\n",
    "print(len(tpl))"
   ]
  },
  {
   "cell_type": "code",
   "execution_count": 15,
   "id": "7d9f56fb",
   "metadata": {},
   "outputs": [
    {
     "name": "stdout",
     "output_type": "stream",
     "text": [
      "(1, 2, 3)\n",
      "(8, 9, 10)\n",
      "(3, 4, 5)\n"
     ]
    }
   ],
   "source": [
    "### Assignment 3: Tuple Slicing\n",
    "\n",
    "# Print the first three elements, the last three elements, and the elements from index 2 to 5 of the tuple created in Assignment 1.\n",
    "\n",
    "print(tpl[0:3])\n",
    "print(tpl[-3:])\n",
    "print(tpl[2:5])"
   ]
  },
  {
   "cell_type": "code",
   "execution_count": 18,
   "id": "defa0b9e",
   "metadata": {},
   "outputs": [
    {
     "name": "stdout",
     "output_type": "stream",
     "text": [
      "6\n"
     ]
    }
   ],
   "source": [
    "### Assignment 4: Nested Tuples\n",
    "\n",
    "# Create a nested tuple representing a 3x3 matrix and print the matrix. \n",
    "# Access and print the element at the second row and third column.\n",
    "\n",
    "\n",
    "nestedTpl = (\n",
    "    (1,2,3),\n",
    "    (4,5,6),\n",
    "    (7,8,9)\n",
    ")\n",
    "\n",
    "print(nestedTpl[1][2])"
   ]
  },
  {
   "cell_type": "code",
   "execution_count": 19,
   "id": "aed982b9",
   "metadata": {},
   "outputs": [
    {
     "name": "stdout",
     "output_type": "stream",
     "text": [
      "(1, 2, 3, 4, 5, 6)\n"
     ]
    }
   ],
   "source": [
    "### Assignment 5: Tuple Concatenation\n",
    "\n",
    "# Concatenate two tuples: (1, 2, 3) and (4, 5, 6). Print the resulting tuple.\n",
    "\n",
    "concat_tpl = (1,2,3) + (4,5,6)\n",
    "print(concat_tpl)"
   ]
  },
  {
   "cell_type": "code",
   "execution_count": 21,
   "id": "dbd466ce",
   "metadata": {},
   "outputs": [
    {
     "name": "stdout",
     "output_type": "stream",
     "text": [
      "3\n",
      "0\n"
     ]
    }
   ],
   "source": [
    "### Assignment 6: Tuple Methods\n",
    "\n",
    "# Create a tuple with duplicate elements and count the occurrences of an element. \n",
    "# Find the index of the first occurrence of an element in the tuple.\n",
    "\n",
    "tpl2 = (1,2,3,1,2,3,1)\n",
    "print(tpl2.count(1))\n",
    "print(tpl2.index(1))"
   ]
  },
  {
   "cell_type": "code",
   "execution_count": 22,
   "id": "58c5fb42",
   "metadata": {},
   "outputs": [
    {
     "name": "stdout",
     "output_type": "stream",
     "text": [
      "1 2 3 4 5 6\n"
     ]
    }
   ],
   "source": [
    "### Assignment 7: Unpacking Tuples\n",
    "\n",
    "# Create a tuple with 5 elements and unpack it into 5 variables. Print the variables.\n",
    "\n",
    "a,b,c,d,e,f = (1,2,3,4,5,6)\n",
    "print(a,b,c,d,e,f)"
   ]
  },
  {
   "cell_type": "code",
   "execution_count": 25,
   "id": "4001cbce",
   "metadata": {},
   "outputs": [
    {
     "name": "stdout",
     "output_type": "stream",
     "text": [
      "(1, 2, 3, 4, 5)\n"
     ]
    }
   ],
   "source": [
    "### Assignment 8: Tuple Conversion\n",
    "\n",
    "# Convert a list of the first 5 positive integers to a tuple. Print the tuple.\n",
    "\n",
    "list = [1,2,3,4,5]\n",
    "\n",
    "print(tuple(list))"
   ]
  },
  {
   "cell_type": "code",
   "execution_count": 26,
   "id": "88797032",
   "metadata": {},
   "outputs": [
    {
     "name": "stdout",
     "output_type": "stream",
     "text": [
      "((1, 2, 3), (4, 5, 6), (7, 8, 9))\n"
     ]
    }
   ],
   "source": [
    "### Assignment 9: Tuple of Tuples\n",
    "\n",
    "# Create a tuple containing 3 tuples, each with 3 elements. Print the tuple of tuples.\n",
    "\n",
    "print(\n",
    "    (\n",
    "        (1,2,3),\n",
    "        (4,5,6),\n",
    "        (7,8,9)\n",
    "    )\n",
    ")"
   ]
  },
  {
   "cell_type": "code",
   "execution_count": 42,
   "id": "5b2395f0",
   "metadata": {},
   "outputs": [
    {
     "name": "stdout",
     "output_type": "stream",
     "text": [
      "((1, 2, 3, 4, 5), 6)\n"
     ]
    }
   ],
   "source": [
    "### Assignment 10: Tuple and List\n",
    "\n",
    "# Create a tuple with the first 5 positive integers. \n",
    "# Convert it to a list, append the number 6, and convert it back to a tuple. Print the resulting tuple.\n",
    "\n",
    "tpl3 = (1,2,3,4,5)\n",
    "tpl3ToList = [(tpl3)]\n",
    "tpl3ToList.append(6)\n",
    "tupleAgain = tuple(tpl3ToList)\n",
    "print(tupleAgain)\n"
   ]
  },
  {
   "cell_type": "code",
   "execution_count": 46,
   "id": "a44f8419",
   "metadata": {},
   "outputs": [
    {
     "name": "stdout",
     "output_type": "stream",
     "text": [
      "123\n"
     ]
    }
   ],
   "source": [
    "### Assignment 11: Tuple and String\n",
    "\n",
    "# Create a tuple with the characters of a string. Join the tuple elements into a single string. Print the string.\n",
    "\n",
    "stringTuple = ('1','2', '3')\n",
    "print(str(''.join(stringTuple)))"
   ]
  },
  {
   "cell_type": "code",
   "execution_count": 48,
   "id": "bad80d28",
   "metadata": {},
   "outputs": [
    {
     "name": "stdout",
     "output_type": "stream",
     "text": [
      "{'1': 1, '2': 2}\n"
     ]
    }
   ],
   "source": [
    "### Assignment 12: Tuple and Dictionary\n",
    "\n",
    "# Create a dictionary with tuple keys and integer values. Print the dictionary.\n",
    "\n",
    "dict = {\n",
    "    ('1' ) : 1,\n",
    "    ('2' ): 2\n",
    "}\n",
    "print(dict)"
   ]
  },
  {
   "cell_type": "code",
   "execution_count": 51,
   "id": "a0c4a330",
   "metadata": {},
   "outputs": [
    {
     "name": "stdout",
     "output_type": "stream",
     "text": [
      "1\n",
      "2\n",
      "3\n",
      "4\n",
      "5\n",
      "6\n"
     ]
    }
   ],
   "source": [
    "### Assignment 13: Nested Tuple Iteration\n",
    "\n",
    "# Create a nested tuple and iterate over the elements, printing each element.\n",
    "\n",
    "nestedTpl = ((1,2,3), (4,5,6))\n",
    "\n",
    "for tpl in nestedTpl:\n",
    "    for i in tpl:\n",
    "        print(i)"
   ]
  },
  {
   "cell_type": "code",
   "execution_count": 52,
   "id": "0f8c29c9",
   "metadata": {},
   "outputs": [
    {
     "name": "stdout",
     "output_type": "stream",
     "text": [
      "{1, 2, 3}\n"
     ]
    }
   ],
   "source": [
    "### Assignment 14: Tuple and Set\n",
    "\n",
    "# Create a tuple with duplicate elements. Convert it to a set to remove duplicates and print the resulting set.\n",
    "\n",
    "x = (1,2,3,1,2,3)\n",
    "print(set(x))\n"
   ]
  },
  {
   "cell_type": "code",
   "execution_count": 54,
   "id": "c1605d56",
   "metadata": {},
   "outputs": [
    {
     "name": "stdout",
     "output_type": "stream",
     "text": [
      "(1, 6, 21)\n"
     ]
    }
   ],
   "source": [
    "### Assignment 15: Tuple Functions\n",
    "\n",
    "# Write functions that take a tuple and return the minimum, maximum, and sum of the elements. \n",
    "# Print the results for a sample tuple.\n",
    "\n",
    "def calc(tpl):\n",
    "    minm = min(tpl)\n",
    "    maxm = max(tpl)\n",
    "    fsum = sum(tpl)\n",
    "    return (minm, maxm, fsum)\n",
    "\n",
    "print(calc((1,2,3,4,5,6)))"
   ]
  },
  {
   "cell_type": "code",
   "execution_count": null,
   "id": "fcdce3b2",
   "metadata": {},
   "outputs": [],
   "source": []
  }
 ],
 "metadata": {
  "kernelspec": {
   "display_name": "Python 3",
   "language": "python",
   "name": "python3"
  },
  "language_info": {
   "codemirror_mode": {
    "name": "ipython",
    "version": 3
   },
   "file_extension": ".py",
   "mimetype": "text/x-python",
   "name": "python",
   "nbconvert_exporter": "python",
   "pygments_lexer": "ipython3",
   "version": "3.12.3"
  }
 },
 "nbformat": 4,
 "nbformat_minor": 5
}
