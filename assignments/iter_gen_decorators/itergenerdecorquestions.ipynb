{
 "cells": [
  {
   "cell_type": "markdown",
   "metadata": {},
   "source": [
    "# Module: Iterators, Generators, and Decorators Assignments\n",
    "## Lesson: Iterators, Generators, and Decorators\n",
    "### Assignment 1: Custom Iterator\n",
    "\n",
    "Create a custom iterator class named `Countdown` that takes a number and counts down to zero. Implement the `__iter__` and `__next__` methods. Test the iterator by using it in a for loop."
   ]
  },
  {
   "cell_type": "code",
   "execution_count": 7,
   "metadata": {},
   "outputs": [
    {
     "name": "stdout",
     "output_type": "stream",
     "text": [
      "4\n",
      "3\n",
      "2\n",
      "1\n",
      "0\n"
     ]
    }
   ],
   "source": [
    "class Countdown():\n",
    "\n",
    "    def __init__(self, num):\n",
    "        self.num = num\n",
    "\n",
    "    def __iter__(self):\n",
    "        return self;\n",
    "\n",
    "    def __next__(self):\n",
    "        if(self.num<=0):\n",
    "            raise StopIteration\n",
    "        else:\n",
    "            self.num -= 1\n",
    "            return self.num \n",
    "        \n",
    "for num in Countdown(5):\n",
    "    print(num)"
   ]
  },
  {
   "cell_type": "code",
   "execution_count": 16,
   "id": "2033a061",
   "metadata": {},
   "outputs": [
    {
     "name": "stdout",
     "output_type": "stream",
     "text": [
      "1\n",
      "2\n",
      "3\n",
      "4\n"
     ]
    }
   ],
   "source": [
    "### Assignment 2: Custom Iterable Class\n",
    "\n",
    "# Create a class named `MyRange` that mimics the behavior of the built-in `range` function. '\n",
    "# Implement the `__iter__` and `__next__` methods. Test the class by using it in a for loop.\n",
    "\n",
    "\n",
    "class MyRange():\n",
    "\n",
    "    def __init__(self, start, end):\n",
    "        self.start = start\n",
    "        self.end = end\n",
    "\n",
    "    def __iter__(self):\n",
    "        return self\n",
    "    \n",
    "    def __next__(self):\n",
    "        if(self.start>=self.end):\n",
    "            raise StopIteration\n",
    "        else:\n",
    "             self.start = self.start+1\n",
    "             return self.start -1\n",
    "\n",
    "for x in MyRange(1,5):\n",
    "    print(x)"
   ]
  },
  {
   "cell_type": "code",
   "execution_count": 26,
   "id": "ab5d24b3",
   "metadata": {},
   "outputs": [
    {
     "name": "stdout",
     "output_type": "stream",
     "text": [
      "0\n",
      "1\n",
      "1\n",
      "2\n",
      "3\n",
      "5\n",
      "8\n",
      "13\n",
      "21\n",
      "34\n"
     ]
    }
   ],
   "source": [
    "### Assignment 3: Generator Function\n",
    "\n",
    "# Write a generator function named `fibonacci` that yields the Fibonacci sequence. \n",
    "# Test the generator by iterating over it and printing the first 10 Fibonacci numbers.\n",
    "\n",
    "def fibonacci(n):\n",
    "    current = 0\n",
    "    next = 1\n",
    "\n",
    "    for x in range(n):\n",
    "        yield current\n",
    "        current, next = next, next+current\n",
    "\n",
    "\n",
    "for num in fibonacci(10):\n",
    "    print(num)\n",
    "\n"
   ]
  },
  {
   "cell_type": "code",
   "execution_count": 28,
   "id": "48bc8561",
   "metadata": {},
   "outputs": [
    {
     "name": "stdout",
     "output_type": "stream",
     "text": [
      "0\n",
      "1\n",
      "4\n",
      "9\n",
      "16\n",
      "25\n",
      "36\n",
      "49\n",
      "64\n",
      "81\n"
     ]
    }
   ],
   "source": [
    "### Assignment 4: Generator Expression\n",
    "\n",
    "# Create a generator expression that generates the squares of numbers from 1 to 10. \n",
    "# Iterate over the generator and print each value.\n",
    "\n",
    "def square(n):\n",
    "    for x in range(n):\n",
    "        yield x**2\n",
    "\n",
    "for num in square(10):\n",
    "    print(num)"
   ]
  },
  {
   "cell_type": "code",
   "execution_count": 34,
   "id": "6de35adb",
   "metadata": {},
   "outputs": [
    {
     "name": "stdout",
     "output_type": "stream",
     "text": [
      "0\n",
      "4\n",
      "16\n",
      "36\n",
      "64\n",
      "100\n",
      "144\n",
      "196\n",
      "256\n",
      "324\n"
     ]
    }
   ],
   "source": [
    "### Assignment 5: Chaining Generators\n",
    "\n",
    "# Write two generator functions: `even_numbers` that yields even numbers up to a limit, and `squares` that yields the square of each number from another generator. \n",
    "# Chain these generators to produce the squares of even numbers up to 20.\n",
    "\n",
    "def even_numbers(n):\n",
    "    for x in range(n):\n",
    "        if(x%2==0):\n",
    "            yield x\n",
    "\n",
    "def square(n):\n",
    "    for x in n:\n",
    "        yield x**2\n",
    "\n",
    "even_n = even_numbers(20)\n",
    "squares = square(even_n)\n",
    "\n",
    "\n",
    "for n in squares:\n",
    "    print(n)"
   ]
  },
  {
   "cell_type": "code",
   "execution_count": 59,
   "id": "fd697a78",
   "metadata": {},
   "outputs": [
    {
     "name": "stdout",
     "output_type": "stream",
     "text": [
      "120\n",
      "time for function completion 4.291534423828125e-05\n"
     ]
    }
   ],
   "source": [
    "### Assignment 6: Simple Decorator\n",
    "\n",
    "# Write a decorator named `time_it` that measures the execution time of a function. \n",
    "# Apply this decorator to a function that calculates the factorial of a number.\n",
    "\n",
    "import time\n",
    "\n",
    "def time_it(func):\n",
    "    def wrapper(*args, **kwargs):\n",
    "        start_time = time.time()\n",
    "\n",
    "        result = func(*args, **kwargs)\n",
    "\n",
    "        end_time = time.time()\n",
    "        delta = end_time - start_time\n",
    "        print(f\"time for function completion {delta}\")\n",
    "        return result\n",
    "    return wrapper\n",
    "\n",
    "@time_it\n",
    "def factorial(n):\n",
    "    fact = 1\n",
    "    for x in range(1,n+1):\n",
    "        fact = x * fact\n",
    "    print(fact)\n",
    "\n",
    "factorial(5)\n",
    "\n"
   ]
  },
  {
   "cell_type": "code",
   "execution_count": 68,
   "id": "56c15870",
   "metadata": {},
   "outputs": [
    {
     "name": "stdout",
     "output_type": "stream",
     "text": [
      "hi\n",
      "hi\n",
      "hi\n"
     ]
    }
   ],
   "source": [
    "### Assignment 7: Decorator with Arguments\n",
    "\n",
    "# Write a decorator named `repeat` that takes an argument `n` and repeats the execution of the decorated function `n` times. \n",
    "# Apply this decorator to a function that prints a message.\n",
    "\n",
    "def repeat(n):\n",
    "    def repeatFn(func):\n",
    "        def wrapper(*args, **kwargs):\n",
    "            for x in range(n):\n",
    "                func(*args, **kwargs)\n",
    "        return wrapper\n",
    "    return repeatFn\n",
    "\n",
    "\n",
    "@repeat(3)\n",
    "def print_msg():\n",
    "    print(\"hi\")\n",
    "\n",
    "print_msg()\n"
   ]
  },
  {
   "cell_type": "code",
   "execution_count": 75,
   "id": "081b2bd4",
   "metadata": {},
   "outputs": [
    {
     "data": {
      "text/plain": [
       "'GREETINGS TO THE DEV WORLD'"
      ]
     },
     "execution_count": 75,
     "metadata": {},
     "output_type": "execute_result"
    }
   ],
   "source": [
    "### Assignment 8: Nested Decorators\n",
    "\n",
    "# Write two decorators: `uppercase` that converts the result of a function to uppercase, \n",
    "# and `exclaim` that adds an exclamation mark to the result of a function. \n",
    "# Apply both decorators to a function that returns a greeting message.\n",
    "\n",
    "def uppercase(func):\n",
    "    def wrapper(*args, **kwargs):\n",
    "        result = func(*args, **kwargs)\n",
    "\n",
    "        return result.upper()\n",
    "    return wrapper\n",
    "\n",
    "@uppercase\n",
    "def print_greeting():\n",
    "    return \"greetings to the dev world\"\n",
    "\n",
    "\n",
    "print_greeting()\n"
   ]
  },
  {
   "cell_type": "code",
   "execution_count": 76,
   "id": "0b8941df",
   "metadata": {},
   "outputs": [
    {
     "name": "stdout",
     "output_type": "stream",
     "text": [
      "Database connection created\n",
      "True\n"
     ]
    }
   ],
   "source": [
    "### Assignment 9: Class Decorator\n",
    "\n",
    "# Create a class decorator named `singleton` that ensures a class has only one instance. \n",
    "# Apply this decorator to a class named `DatabaseConnection` and test it.\n",
    "\n",
    "def singleton(cls):\n",
    "    instances = {}\n",
    "    def get_instance(*args, **kwargs):\n",
    "        if cls not in instances:\n",
    "            instances[cls] = cls(*args, **kwargs)\n",
    "        return instances[cls]\n",
    "    return get_instance\n",
    "\n",
    "@singleton\n",
    "class DatabaseConnection:\n",
    "    def __init__(self):\n",
    "        print(\"Database connection created\")\n",
    "\n",
    "db1 = DatabaseConnection()\n",
    "db2 = DatabaseConnection()\n",
    "print(db1 is db2) "
   ]
  },
  {
   "cell_type": "code",
   "execution_count": 120,
   "id": "4290217e",
   "metadata": {},
   "outputs": [
    {
     "ename": "TypeError",
     "evalue": "'function' object is not iterable",
     "output_type": "error",
     "traceback": [
      "\u001b[0;31m---------------------------------------------------------------------------\u001b[0m",
      "\u001b[0;31mTypeError\u001b[0m                                 Traceback (most recent call last)",
      "Cell \u001b[0;32mIn[120], line 30\u001b[0m\n\u001b[1;32m     27\u001b[0m reverse_string \u001b[38;5;241m=\u001b[39m ReverseString(\u001b[38;5;124m\"\u001b[39m\u001b[38;5;124mhello world\u001b[39m\u001b[38;5;124m\"\u001b[39m)\n\u001b[1;32m     28\u001b[0m x \u001b[38;5;241m=\u001b[39m reverse_string\u001b[38;5;241m.\u001b[39mreverse_str()\n\u001b[0;32m---> 30\u001b[0m \u001b[38;5;28;43;01mfor\u001b[39;49;00m\u001b[43m \u001b[49m\u001b[43mval\u001b[49m\u001b[43m \u001b[49m\u001b[38;5;129;43;01min\u001b[39;49;00m\u001b[43m \u001b[49m\u001b[43mx\u001b[49m\u001b[43m:\u001b[49m\n\u001b[1;32m     31\u001b[0m \u001b[43m    \u001b[49m\u001b[38;5;28;43mprint\u001b[39;49m\u001b[43m(\u001b[49m\u001b[43mval\u001b[49m\u001b[43m)\u001b[49m\n",
      "\u001b[0;31mTypeError\u001b[0m: 'function' object is not iterable"
     ]
    }
   ],
   "source": [
    "### Assignment 10: Iterator Protocol with Decorators\n",
    "\n",
    "# Create a custom iterator class named `ReverseString` that iterates over a string in reverse. \n",
    "# Write a decorator named `uppercase` that converts the string to uppercase before reversing it. \n",
    "# Apply the decorator to the `ReverseString` class.\n",
    "\n",
    "\n",
    "\n",
    "class ReverseString():\n",
    "\n",
    "    def __init__(self, str):\n",
    "        self.str = str\n",
    "\n",
    "    @uppercase\n",
    "    def reverse_str(self):\n",
    "        return reversed(self.str)\n",
    "    \n",
    "\n",
    "def uppercase(func):\n",
    "    def wrapped(self, *args, **kwargs):\n",
    "        self.str = \n",
    "\n",
    "\n"
   ]
  },
  {
   "cell_type": "code",
   "execution_count": 112,
   "id": "5b3f666f",
   "metadata": {},
   "outputs": [
    {
     "name": "stdout",
     "output_type": "stream",
     "text": [
      "1\n",
      "2\n",
      "3\n",
      "4\n",
      "5\n"
     ]
    }
   ],
   "source": [
    "### Assignment 11: Stateful Generators\n",
    "\n",
    "# Write a stateful generator function named `counter` that takes a start value and increments it by 1 each time it is called. \n",
    "# Test the generator by iterating over it and printing the first 10 values.\n",
    "\n",
    "def Counter(start_val):\n",
    "    current = start_val\n",
    "    while True:\n",
    "        current = current+1\n",
    "        yield current\n",
    "    \n",
    "\n",
    "count = Counter(0)\n",
    "for y in range(5):\n",
    "    print(next(count))"
   ]
  },
  {
   "cell_type": "code",
   "execution_count": 113,
   "id": "b482a96e",
   "metadata": {},
   "outputs": [
    {
     "name": "stdout",
     "output_type": "stream",
     "text": [
      "-0.022222222222222223\n",
      "-0.044444444444444446\n",
      "-0.06666666666666667\n",
      "-0.08888888888888889\n",
      "-0.1111111111111111\n"
     ]
    }
   ],
   "source": [
    "### Assignment 12: Generator with Exception Handling\n",
    "\n",
    "# Write a generator function named `safe_divide` that takes a list of numbers \n",
    "# and yields the division of each number by a given divisor. \n",
    "# Implement exception handling within the generator to handle division by zero.\n",
    "\n",
    "def safe_divide(lst, div):\n",
    "    try:\n",
    "        for num in lst:\n",
    "            yield num/div\n",
    "    except Exception as e:\n",
    "        print(f\"num not divisible by {div}\")\n",
    "\n",
    "result = safe_divide([1,2,3,4,5], -45)\n",
    "\n",
    "for num in result:\n",
    "    print(num)"
   ]
  },
  {
   "cell_type": "code",
   "execution_count": 114,
   "id": "97ade2a2",
   "metadata": {},
   "outputs": [],
   "source": [
    "### Assignment 13: Context Manager Decorator\n",
    "\n",
    "# Write a decorator named `open_file` that manages the opening and closing of a file. \n",
    "# Apply this decorator to a function that writes some text to a file.\n",
    "\n",
    "def open_file(fileName, mode):\n",
    "    def decorator(func):\n",
    "        def wrapper(*args, **kwargs):\n",
    "            with open(fileName, mode) as file:\n",
    "                return func(file, *args, **kwargs)\n",
    "        return wrapper\n",
    "    return decorator\n",
    "\n",
    "\n",
    "@open_file('sample.txt', 'w')\n",
    "def write_in_file(file, text):\n",
    "    file.write(text)\n",
    "\n",
    "\n",
    "write_in_file(\"hello world\")"
   ]
  },
  {
   "cell_type": "markdown",
   "id": "de123cc3",
   "metadata": {},
   "source": [
    "### Assignment 14: Polymorphism with Inheritance\n",
    "\n",
    "Create a base class named `Bird` with a method `speak`. Create two derived classes `Parrot` and `Penguin` that override the `speak` method. Create a list of `Bird` objects and call the `speak` method on each object to demonstrate polymorphism."
   ]
  },
  {
   "cell_type": "code",
   "execution_count": 106,
   "id": "f76285ad",
   "metadata": {},
   "outputs": [
    {
     "name": "stdout",
     "output_type": "stream",
     "text": [
      "11\n",
      "12\n",
      "13\n",
      "14\n",
      "15\n",
      "16\n",
      "17\n",
      "18\n",
      "19\n",
      "20\n"
     ]
    }
   ],
   "source": [
    "### Assignment 14: Infinite Iterator\n",
    "\n",
    "# Create an infinite iterator class named `InfiniteCounter` that starts from a given number and increments by 1 indefinitely. \n",
    "# Test the iterator by printing the first 10 values generated by it.\n",
    "\n",
    "class InfiniteIterator():\n",
    "\n",
    "    def __init__(self, num):\n",
    "        self.num = num\n",
    "\n",
    "    def __next__(self):\n",
    "        self.num = self.num +1\n",
    "        return self.num\n",
    "    \n",
    "infiniteIterator = InfiniteIterator(10)\n",
    "\n",
    "for x in range(10):\n",
    "    print(next(infiniteIterator))"
   ]
  },
  {
   "cell_type": "code",
   "execution_count": 107,
   "id": "d6c61c1e",
   "metadata": {},
   "outputs": [
    {
     "name": "stdout",
     "output_type": "stream",
     "text": [
      "-2\n",
      "-4\n",
      "-6\n",
      "-8\n",
      "-10\n",
      "-12\n",
      "-14\n",
      "-16\n",
      "-18\n"
     ]
    }
   ],
   "source": [
    "### Assignment 15: Generator Pipeline\n",
    "\n",
    "# Write three generator functions: `integers` that yields integers from 1 to 10, `doubles` that yields each integer doubled, \n",
    "# and `negatives` that yields the negative of each doubled value. \n",
    "# Chain these generators to create a pipeline that produces the negative doubled values of integers from 1 to 10.\n",
    "\n",
    "\n",
    "def intGen():\n",
    "    for x in range(1,10):\n",
    "        yield x\n",
    "\n",
    "def doubeIntGen(numbers):\n",
    "    for x in numbers:\n",
    "        yield x*2\n",
    "\n",
    "def negativeTheDoubleGen(numbers):\n",
    "    for x in numbers:\n",
    "        yield (-1 * x)\n",
    "\n",
    "x = intGen()\n",
    "y = doubeIntGen(x)\n",
    "z = negativeTheDoubleGen(y)\n",
    "\n",
    "for x in z:\n",
    "    print(x)"
   ]
  },
  {
   "cell_type": "code",
   "execution_count": null,
   "id": "52ee88a6",
   "metadata": {},
   "outputs": [],
   "source": []
  }
 ],
 "metadata": {
  "kernelspec": {
   "display_name": "Python 3",
   "language": "python",
   "name": "python3"
  },
  "language_info": {
   "codemirror_mode": {
    "name": "ipython",
    "version": 3
   },
   "file_extension": ".py",
   "mimetype": "text/x-python",
   "name": "python",
   "nbconvert_exporter": "python",
   "pygments_lexer": "ipython3",
   "version": "3.12.3"
  }
 },
 "nbformat": 4,
 "nbformat_minor": 5
}
