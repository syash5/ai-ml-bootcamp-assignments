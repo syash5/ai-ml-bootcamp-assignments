{
 "cells": [
  {
   "cell_type": "markdown",
   "metadata": {},
   "source": [
    "# Module: OOP Assignments\n",
    "## Lesson: Polymorphism, Abstraction, and Encapsulation\n",
    "### Assignment 1: Polymorphism with Methods\n",
    "\n",
    "<!-- Create a base class named `Shape` with a method `area`. Create two derived classes `Circle` and `Square` that override the `area` method. Create a list of `Shape` objects and call the `area` method on each object to demonstrate polymorphism. -->"
   ]
  },
  {
   "cell_type": "code",
   "execution_count": 1,
   "metadata": {},
   "outputs": [
    {
     "name": "stdout",
     "output_type": "stream",
     "text": [
      "78.53981633974483\n",
      "16\n"
     ]
    }
   ],
   "source": [
    "# Create a base class named `Shape` with a method `area`. \n",
    "# Create two derived classes `Circle` and `Square` that override the `area` method. \n",
    "# Create a list of `Shape` objects and call the `area` method on each object to demonstrate polymorphism.\n",
    "\n",
    "import math\n",
    "\n",
    "class Shape:\n",
    "    def area(self):\n",
    "        pass\n",
    "\n",
    "class Circle(Shape):\n",
    "    def __init__(self, radius):\n",
    "        self.radius = radius\n",
    "\n",
    "    def area(self):\n",
    "        return math.pi * self.radius ** 2\n",
    "\n",
    "class Square(Shape):\n",
    "    def __init__(self, side):\n",
    "        self.side = side\n",
    "\n",
    "    def area(self):\n",
    "        return self.side ** 2\n",
    "\n",
    "shapes = [Circle(5), Square(4)]\n",
    "for shape in shapes:\n",
    "    print(shape.area())\n"
   ]
  },
  {
   "cell_type": "code",
   "execution_count": 3,
   "id": "2cb507d5",
   "metadata": {},
   "outputs": [
    {
     "name": "stdout",
     "output_type": "stream",
     "text": [
      "78.53981633974483\n",
      "4\n"
     ]
    }
   ],
   "source": [
    "### Assignment 2: Polymorphism with Function Arguments\n",
    "\n",
    "# Create a function named `describe_shape` that takes a `Shape` object as an argument and calls its `area` method. \n",
    "# Create objects of `Circle` and `Square` classes and pass them to the `describe_shape` function.\n",
    "\n",
    "\n",
    "def describe_shape(shapeObj):\n",
    "    print(shapeObj.area())\n",
    "\n",
    "circle = Circle(5)\n",
    "square = Square(2)\n",
    "\n",
    "describe_shape(circle)\n",
    "describe_shape(square)\n",
    "    "
   ]
  },
  {
   "cell_type": "code",
   "execution_count": 6,
   "id": "82186055",
   "metadata": {},
   "outputs": [
    {
     "name": "stdout",
     "output_type": "stream",
     "text": [
      "car engine started\n",
      "bike engine started\n"
     ]
    }
   ],
   "source": [
    "### Assignment 3: Abstract Base Class with Abstract Methods\n",
    "\n",
    "# Create an abstract base class named `Vehicle` with an abstract method `start_engine`. \n",
    "# Create derived classes `Car` and `Bike` that implement the `start_engine` method. \n",
    "# Create objects of the derived classes and call the `start_engine` method.\n",
    "\n",
    "from abc import ABC, abstractmethod\n",
    "\n",
    "class Vehicle(ABC):\n",
    "\n",
    "    @abstractmethod\n",
    "    def start_engine(self):\n",
    "        pass\n",
    "\n",
    "class Car(Vehicle):\n",
    "\n",
    "    def start_engine(self):\n",
    "        print(\"car engine started\")\n",
    "\n",
    "class Bike(Vehicle):\n",
    "    def start_engine(self):\n",
    "        print(\"bike engine started\")\n",
    "\n",
    "car = Car()\n",
    "car.start_engine()\n",
    "\n",
    "bike = Bike()\n",
    "bike.start_engine()"
   ]
  },
  {
   "cell_type": "code",
   "execution_count": 7,
   "id": "a1b066cf",
   "metadata": {},
   "outputs": [
    {
     "name": "stdout",
     "output_type": "stream",
     "text": [
      "Petrol\n",
      "Diesel\n"
     ]
    }
   ],
   "source": [
    "### Assignment 4: Abstract Base Class with Concrete Methods\n",
    "\n",
    "# In the `Vehicle` class, add a concrete method `fuel_type` that returns a generic fuel type. \n",
    "# Override this method in `Car` and `Bike` classes to return specific fuel types. \n",
    "# Create objects of the derived classes and call the `fuel_type` method.\n",
    "\n",
    "class Vehicle(ABC):\n",
    "    @abstractmethod\n",
    "    def start_engine(self):\n",
    "        pass\n",
    "\n",
    "    def fuel_type(self):\n",
    "        return \"Generic Fuel\"\n",
    "\n",
    "class Car(Vehicle):\n",
    "    def start_engine(self):\n",
    "        print(\"Car engine started\")\n",
    "\n",
    "    def fuel_type(self):\n",
    "        return \"Petrol\"\n",
    "\n",
    "class Bike(Vehicle):\n",
    "    def start_engine(self):\n",
    "        print(\"Bike engine started\")\n",
    "\n",
    "    def fuel_type(self):\n",
    "        return \"Diesel\"\n",
    "\n",
    "car = Car()\n",
    "bike = Bike()\n",
    "print(car.fuel_type())\n",
    "print(bike.fuel_type())"
   ]
  },
  {
   "cell_type": "code",
   "execution_count": 8,
   "id": "dc70f3f5",
   "metadata": {},
   "outputs": [
    {
     "name": "stdout",
     "output_type": "stream",
     "text": [
      "1300\n",
      "Insufficient balance!\n"
     ]
    }
   ],
   "source": [
    "### Assignment 5: Encapsulation with Private Attributes\n",
    "\n",
    "# Create a class named `BankAccount` with private attributes `account_number` and `balance`. \n",
    "# Add methods to deposit and withdraw money, and to check the balance. \n",
    "# Ensure that the balance cannot be accessed directly.\n",
    "\n",
    "class BankAccount:\n",
    "    def __init__(self, account_number, balance=0):\n",
    "        self.__account_number = account_number\n",
    "        self.__balance = balance\n",
    "\n",
    "    def deposit(self, amount):\n",
    "        self.__balance += amount\n",
    "\n",
    "    def withdraw(self, amount):\n",
    "        if amount > self.__balance:\n",
    "            print(\"Insufficient balance!\")\n",
    "        else:\n",
    "            self.__balance -= amount\n",
    "\n",
    "    def check_balance(self):\n",
    "        return self.__balance\n",
    "\n",
    "\n",
    "account = BankAccount('12345678', 1000)\n",
    "account.deposit(500)\n",
    "account.withdraw(200)\n",
    "print(account.check_balance())  \n",
    "account.withdraw(2000)  "
   ]
  },
  {
   "cell_type": "code",
   "execution_count": 22,
   "id": "4ed4f0be",
   "metadata": {},
   "outputs": [
    {
     "name": "stdout",
     "output_type": "stream",
     "text": [
      "1000\n",
      "Balance can't be less than 0\n",
      "1600\n"
     ]
    }
   ],
   "source": [
    "### Assignment 6: Encapsulation with Property Decorators\n",
    "\n",
    "# In the `BankAccount` class, use property decorators to get and set the `balance` attribute. \n",
    "# Ensure that the balance cannot be set to a negative value.\n",
    "\n",
    "class BankAccount:\n",
    "    def __init__(self, account_number, balance=0):\n",
    "        self.__account_number = account_number\n",
    "        self.__balance = balance\n",
    "\n",
    "    @property\n",
    "    def balance(self):\n",
    "        return self.__balance\n",
    "\n",
    "    @balance.setter\n",
    "    def balance(self, balance):\n",
    "        if(balance < 0):\n",
    "            print(\"Balance can't be less than 0\")\n",
    "        else:\n",
    "            self.__balance = balance\n",
    "\n",
    "    \n",
    "\n",
    "bankAccount = BankAccount(123456, balance= 1000)\n",
    "\n",
    "print(bankAccount.balance)\n",
    "bankAccount.balance = -400\n",
    "bankAccount.balance += 600\n",
    "print(bankAccount.balance)\n"
   ]
  },
  {
   "cell_type": "code",
   "execution_count": 25,
   "id": "944ea43e",
   "metadata": {},
   "outputs": [
    {
     "name": "stdout",
     "output_type": "stream",
     "text": [
      "yash 26 1\n",
      "yash 22 1\n"
     ]
    }
   ],
   "source": [
    "### Assignment 7: Combining Encapsulation and Inheritance\n",
    "\n",
    "# Create a base class named `Person` with private attributes `name` and `age`. \n",
    "# Add methods to get and set these attributes. Create a derived class named `Student` that adds an attribute `student_id`. \n",
    "# Create an object of the `Student` class and test the encapsulation.\n",
    "\n",
    "class Person():\n",
    "\n",
    "    def __init__(self, name, age):\n",
    "        self.__name = name\n",
    "        self.__age = age\n",
    "\n",
    "    @property\n",
    "    def name(self):\n",
    "        return self.__name\n",
    "    \n",
    "    @name.setter\n",
    "    def name(self, name):\n",
    "        self.__name = name\n",
    "\n",
    "    @property\n",
    "    def age(self):\n",
    "        return self.__age\n",
    "    \n",
    "    @age.setter\n",
    "    def age(self, age):\n",
    "        self.__age = age\n",
    "\n",
    "\n",
    "    \n",
    "class Student(Person):\n",
    "\n",
    "    def __init__(self, name, age, student_id):\n",
    "        super().__init__(name, age)\n",
    "        self.student_id = student_id\n",
    "\n",
    "student = Student(\"yash\", 26, 1)\n",
    "print(student.name, student.age, student.student_id)\n",
    "student.age = 22\n",
    "print(student.name, student.age, student.student_id)\n"
   ]
  },
  {
   "cell_type": "code",
   "execution_count": 28,
   "id": "b57a9b9e",
   "metadata": {},
   "outputs": [
    {
     "name": "stdout",
     "output_type": "stream",
     "text": [
      "woof\n",
      "meow\n"
     ]
    }
   ],
   "source": [
    "### Assignment 8: Polymorphism with Inheritance\n",
    "\n",
    "# Create a base class named `Animal` with a method `speak`. \n",
    "# Create two derived classes `Dog` and `Cat` that override the `speak` method. \n",
    "# Create a list of `Animal` objects and call the `speak` method on each object to demonstrate polymorphism.\n",
    "\n",
    "class Animal():\n",
    "    def speak(self):\n",
    "        pass\n",
    "\n",
    "class Dog(Animal):\n",
    "    def speak(self):\n",
    "        print(\"woof\")\n",
    "\n",
    "class Cat(Animal):\n",
    "    def speak(self):\n",
    "        print(\"meow\")\n",
    "\n",
    "\n",
    "listOfAnimals = [Dog(), Cat()]\n",
    "\n",
    "for animal in listOfAnimals:\n",
    "    animal.speak()"
   ]
  },
  {
   "cell_type": "code",
   "execution_count": 29,
   "id": "e49fdbeb",
   "metadata": {},
   "outputs": [
    {
     "name": "stdout",
     "output_type": "stream",
     "text": [
      "100\n",
      "20\n"
     ]
    }
   ],
   "source": [
    "### Assignment 9: Abstract Methods in Base Class\n",
    "\n",
    "# Create an abstract base class named `Employee` with an abstract method `calculate_salary`. \n",
    "# Create two derived classes `FullTimeEmployee` and `PartTimeEmployee` that implement the `calculate_salary` method. \n",
    "# Create objects of the derived classes and call the `calculate_salary` method.\n",
    "\n",
    "class Employee(ABC):\n",
    "    @abstractmethod\n",
    "    def calculate_salary(self):\n",
    "        pass\n",
    "\n",
    "class FullTimeEmployee(Employee):\n",
    "    def __init__(self, salary):\n",
    "        self.salary = salary\n",
    "\n",
    "    def calculate_salary(self):\n",
    "        return self.salary\n",
    "\n",
    "class PartTimeEmployee(Employee):\n",
    "    def __init__(self, hourly_rate, hours_worked):\n",
    "        self.hourly_rate = hourly_rate\n",
    "        self.hours_worked = hours_worked\n",
    "\n",
    "    def calculate_salary(self):\n",
    "        return self.hourly_rate * self.hours_worked\n",
    "\n",
    "full_time = FullTimeEmployee(100)\n",
    "part_time = PartTimeEmployee(2, 10)\n",
    "print(full_time.calculate_salary()) \n",
    "print(part_time.calculate_salary())  "
   ]
  },
  {
   "cell_type": "code",
   "execution_count": 32,
   "id": "dbc4bbaf",
   "metadata": {},
   "outputs": [
    {
     "name": "stdout",
     "output_type": "stream",
     "text": [
      "1 phone 10\n",
      "1 phone 100\n"
     ]
    }
   ],
   "source": [
    "### Assignment 10: Encapsulation in Data Classes\n",
    "\n",
    "# Create a data class named `Product` with private attributes `product_id`, `name`, and `price`. \n",
    "# Add methods to get and set these attributes. \n",
    "# Ensure that the price cannot be set to a negative value.\n",
    "\n",
    "class Product():\n",
    "\n",
    "    def __init__(self, product_id, name, price):\n",
    "        self.__product_id = product_id\n",
    "        self.__name = name\n",
    "        self.__price = price\n",
    "\n",
    "    def get_product_id(self):\n",
    "        return self.__product_id\n",
    "\n",
    "    def get_name(self):\n",
    "        return self.__name\n",
    "\n",
    "    def get_price(self):\n",
    "        return self.__price\n",
    "\n",
    "    def set_product_id(self, product_id):\n",
    "        self.__product_id = product_id\n",
    "\n",
    "    def set_name(self, name):\n",
    "        self.__name = name\n",
    "\n",
    "    def set_price(self, price):\n",
    "        if price < 0:\n",
    "            print(\"Price cannot be negative!\")\n",
    "        else:\n",
    "            self.__price = price\n",
    "        \n",
    "product = Product('1', 'phone', 10)\n",
    "print(product.get_product_id(), product.get_name(), product.get_price())\n",
    "product.set_price(100)\n",
    "print(product.get_product_id(), product.get_name(), product.get_price())"
   ]
  },
  {
   "cell_type": "code",
   "execution_count": 34,
   "id": "31ff6c4f",
   "metadata": {},
   "outputs": [
    {
     "name": "stdout",
     "output_type": "stream",
     "text": [
      "Vector(45, 356)\n"
     ]
    }
   ],
   "source": [
    "### Assignment 11: Polymorphism with Operator Overloading\n",
    "\n",
    "# Create a class named `Vector` with attributes `x` and `y`. \n",
    "# Overload the `+` operator to add two `Vector` objects. \n",
    "# Create objects of the class and test the operator overloading.\n",
    "\n",
    "class Vector:\n",
    "    def __init__(self, x, y):\n",
    "        self.x = x\n",
    "        self.y = y\n",
    "\n",
    "    def __add__(self, other):\n",
    "        return Vector(self.x + other.x, self.y + other.y)\n",
    "\n",
    "    def __str__(self):\n",
    "        return f\"Vector({self.x}, {self.y})\"\n",
    "\n",
    "v1 = Vector(1, 323)\n",
    "v2 = Vector(44, 33)\n",
    "v3 = v1 + v2\n",
    "print(v3)"
   ]
  },
  {
   "cell_type": "code",
   "execution_count": 35,
   "id": "021a9687",
   "metadata": {},
   "outputs": [
    {
     "name": "stdout",
     "output_type": "stream",
     "text": [
      "500W\n",
      "300W\n"
     ]
    }
   ],
   "source": [
    "### Assignment 12: Abstract Properties\n",
    "\n",
    "# Create an abstract base class named `Appliance` with an abstract property `power`. \n",
    "# Create two derived classes `WashingMachine` and `Refrigerator` that implement the `power` property. \n",
    "# Create objects of the derived classes and access the `power` property.\n",
    "\n",
    "class Appliance(ABC):\n",
    "    @property\n",
    "    @abstractmethod\n",
    "    def power(self):\n",
    "        pass\n",
    "\n",
    "class WashingMachine(Appliance):\n",
    "    @property\n",
    "    def power(self):\n",
    "        return \"500W\"\n",
    "\n",
    "class Refrigerator(Appliance):\n",
    "    @property\n",
    "    def power(self):\n",
    "        return \"300W\"\n",
    "\n",
    "\n",
    "wm = WashingMachine()\n",
    "fridge = Refrigerator()\n",
    "print(wm.power)  \n",
    "print(fridge.power)  "
   ]
  },
  {
   "cell_type": "code",
   "execution_count": 36,
   "id": "5fdd6411",
   "metadata": {},
   "outputs": [
    {
     "name": "stdout",
     "output_type": "stream",
     "text": [
      "12345678 1000 0.05\n",
      "12345678 1500 0.05\n"
     ]
    }
   ],
   "source": [
    "### Assignment 13: Encapsulation in Class Hierarchies\n",
    "\n",
    "# Create a base class named `Account` with private attributes `account_number` and `balance`. \n",
    "# Add methods to get and set these attributes. Create a derived class named `SavingsAccount` \n",
    "# that adds an attribute `interest_rate`. \n",
    "# Create an object of the `SavingsAccount` class and test the encapsulation.\n",
    "\n",
    "class Account:\n",
    "    def __init__(self, account_number, balance=0):\n",
    "        self.__account_number = account_number\n",
    "        self.__balance = balance\n",
    "\n",
    "    def get_account_number(self):\n",
    "        return self.__account_number\n",
    "\n",
    "    def get_balance(self):\n",
    "        return self.__balance\n",
    "\n",
    "    def set_balance(self, balance):\n",
    "        if balance < 0:\n",
    "            print(\"Balance cannot be negative!\")\n",
    "        else:\n",
    "            self.__balance = balance\n",
    "\n",
    "class SavingsAccount(Account):\n",
    "    def __init__(self, account_number, balance, interest_rate):\n",
    "        super().__init__(account_number, balance)\n",
    "        self.interest_rate = interest_rate\n",
    "\n",
    "savings = SavingsAccount('12345678', 1000, 0.05)\n",
    "print(savings.get_account_number(), savings.get_balance(), savings.interest_rate)\n",
    "savings.set_balance(1500)\n",
    "print(savings.get_account_number(), savings.get_balance(), savings.interest_rate)"
   ]
  },
  {
   "cell_type": "code",
   "execution_count": 37,
   "id": "6e6faf62",
   "metadata": {},
   "outputs": [
    {
     "name": "stdout",
     "output_type": "stream",
     "text": [
      "Superhero flying...\n",
      "Superhero swimming...\n"
     ]
    }
   ],
   "source": [
    "### Assignment 14: Polymorphism with Multiple Inheritance\n",
    "\n",
    "# Create a class named `Flyer` with a method `fly`. \n",
    "# Create a class named `Swimmer` with a method `swim`. \n",
    "# Create a class named `Superhero` that inherits from both `Flyer` and `Swimmer` and overrides both methods. \n",
    "# Create an object of the `Superhero` class and call both methods.\n",
    "\n",
    "class Flyer:\n",
    "    def fly(self):\n",
    "        print(\"Flying...\")\n",
    "\n",
    "class Swimmer:\n",
    "    def swim(self):\n",
    "        print(\"Swimming...\")\n",
    "\n",
    "class Superhero(Flyer, Swimmer):\n",
    "    def fly(self):\n",
    "        print(\"Superhero flying...\")\n",
    "\n",
    "    def swim(self):\n",
    "        print(\"Superhero swimming...\")\n",
    "\n",
    "superhero = Superhero()\n",
    "superhero.fly()\n",
    "superhero.swim()"
   ]
  },
  {
   "cell_type": "code",
   "execution_count": 50,
   "id": "c45a83ca",
   "metadata": {},
   "outputs": [
    {
     "name": "stdout",
     "output_type": "stream",
     "text": [
      "Engineer is working\n",
      "Doctor is working\n"
     ]
    }
   ],
   "source": [
    "### Assignment 15: Abstract Methods and Multiple Inheritance\n",
    "\n",
    "# Create an abstract base class named `Worker` with an abstract method `work`. \n",
    "# Create two derived classes `Engineer` and `Doctor` that implement the `work` method. \n",
    "# Create another derived class `Scientist` that inherits from both `Engineer` and `Doctor`. \n",
    "# Create an object of the `Scientist` class and call the `work` method.\n",
    "\n",
    "from abc import ABC, abstractmethod\n",
    "\n",
    "class Worker(ABC):\n",
    "    @abstractmethod\n",
    "    def work(self):\n",
    "        pass\n",
    "\n",
    "class Doctor(Worker):\n",
    "    def work(self):\n",
    "        print(\"Doctor is working\")\n",
    "\n",
    "class Engineer(Worker):\n",
    "    def work(self):\n",
    "        print(\"Engineer is working\")\n",
    "\n",
    "class Scientist(Doctor, Worker):\n",
    "    def work(self):\n",
    "        Engineer.work(self)\n",
    "        Doctor.work(self)\n",
    "\n",
    "\n",
    "\n",
    "scientist = Scientist()\n",
    "scientist.work()"
   ]
  }
 ],
 "metadata": {
  "kernelspec": {
   "display_name": "Python 3",
   "language": "python",
   "name": "python3"
  },
  "language_info": {
   "codemirror_mode": {
    "name": "ipython",
    "version": 3
   },
   "file_extension": ".py",
   "mimetype": "text/x-python",
   "name": "python",
   "nbconvert_exporter": "python",
   "pygments_lexer": "ipython3",
   "version": "3.12.3"
  }
 },
 "nbformat": 4,
 "nbformat_minor": 5
}
