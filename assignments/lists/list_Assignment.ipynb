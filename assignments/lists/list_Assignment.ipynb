{
 "cells": [
  {
   "cell_type": "markdown",
   "metadata": {},
   "source": [
    "# Module 3: Data Structures Assignments"
   ]
  },
  {
   "cell_type": "code",
   "execution_count": 3,
   "metadata": {},
   "outputs": [
    {
     "name": "stdout",
     "output_type": "stream",
     "text": [
      "[1, 2, 3, 4, 5, 6, 7, 8, 9, 10, 11, 12, 13, 14, 15, 16, 17, 18, 19, 20]\n"
     ]
    }
   ],
   "source": [
    "### Assignment 1: Creating and Accessing Lists\n",
    "\n",
    "# Create a list of the first 20 positive integers. Print the list.\n",
    "list = []\n",
    "for n in range(1,21):\n",
    "    list.append(n)\n",
    "\n",
    "print(list)"
   ]
  },
  {
   "cell_type": "code",
   "execution_count": 20,
   "id": "3a31b74d",
   "metadata": {},
   "outputs": [
    {
     "name": "stdout",
     "output_type": "stream",
     "text": [
      "1\n",
      "11\n",
      "20\n",
      "20\n"
     ]
    }
   ],
   "source": [
    "### Assignment 2: Accessing List Elements\n",
    "\n",
    "# Print the first, middle, and last elements of the list created in Assignment 1.\n",
    "\n",
    "print(list[0])\n",
    "print(list[len(list)//2])\n",
    "print(list[len(list) -1]) \n",
    "# or\n",
    "print(list[-1])"
   ]
  },
  {
   "cell_type": "code",
   "execution_count": 32,
   "id": "51b7ae99",
   "metadata": {},
   "outputs": [
    {
     "name": "stdout",
     "output_type": "stream",
     "text": [
      "[1, 2, 3, 4, 5]\n",
      "[16, 17, 18, 19, 20]\n",
      "[5, 6, 7, 8, 9, 10, 11, 12, 13, 14, 15]\n"
     ]
    }
   ],
   "source": [
    "### Assignment 3: List Slicing\n",
    "\n",
    "# Print the first five elements, the last five elements, and the elements from index 5 to 15 of the list created in Assignment 1.\n",
    "\n",
    "print(list[0:5])\n",
    "print(list[-5:])\n",
    "print(list[list.index(5): list.index(16)])"
   ]
  },
  {
   "cell_type": "code",
   "execution_count": 38,
   "id": "0c3d7799",
   "metadata": {},
   "outputs": [
    {
     "name": "stdout",
     "output_type": "stream",
     "text": [
      "[1, 4, 9, 16, 25, 36, 49, 64, 81, 100]\n"
     ]
    }
   ],
   "source": [
    "### Assignment 4: List Comprehensions\n",
    "\n",
    "# Create a new list containing the squares of the first 10 positive integers using a list comprehension. Print the new list.\n",
    "nList = [n*n for n in list[0:10]]\n",
    "print(nList)"
   ]
  },
  {
   "cell_type": "code",
   "execution_count": 40,
   "id": "96611e51",
   "metadata": {},
   "outputs": [
    {
     "name": "stdout",
     "output_type": "stream",
     "text": [
      "[2, 4, 6, 8, 10, 12, 14, 16, 18, 20]\n"
     ]
    }
   ],
   "source": [
    "### Assignment 5: Filtering Lists\n",
    "\n",
    "# Create a new list containing only the even numbers from the list created in Assignment 1 using a list comprehension. Print the new list.\n",
    "\n",
    "evenNoList = []\n",
    "evenNoList = [n for n in list if(n%2==0)]\n",
    "print(evenNoList)"
   ]
  },
  {
   "cell_type": "code",
   "execution_count": 54,
   "id": "8105a702",
   "metadata": {},
   "outputs": [
    {
     "name": "stdout",
     "output_type": "stream",
     "text": [
      "[73, 38, 65, 96, 2, 68, 33, 38, 68]\n",
      "[2, 33, 38, 38, 65, 68, 68, 73, 96]\n",
      "{96, 65, 2, 33, 68, 38, 73}\n"
     ]
    }
   ],
   "source": [
    "### Assignment 6: List Methods\n",
    "\n",
    "# Create a list of random numbers and sort it in ascending and descending order. \n",
    "# Remove the duplicates from the list and print the modified list.\n",
    "\n",
    "import random\n",
    "randomList = [random.randint(1,100) for n in range(1,10)]\n",
    "\n",
    "print(randomList)\n",
    "print(sorted(randomList))\n",
    "print(set(randomList))\n"
   ]
  },
  {
   "cell_type": "code",
   "execution_count": 62,
   "id": "fc537036",
   "metadata": {},
   "outputs": [
    {
     "name": "stdout",
     "output_type": "stream",
     "text": [
      "[[1, 2, 3], [4, 5, 6], [7, 8, 9]]\n",
      "6\n"
     ]
    }
   ],
   "source": [
    "### Assignment 7: Nested Lists\n",
    "\n",
    "# Create a nested list representing a 3x3 matrix and print the matrix. \n",
    "# Access and print the element at the second row and third column.\n",
    "\n",
    "matrixList = [\n",
    "    [1,2,3],\n",
    "    [4,5,6],\n",
    "    [7,8,9]\n",
    "]\n",
    "\n",
    "print(matrixList)\n",
    "print(matrixList[1][2])\n"
   ]
  },
  {
   "cell_type": "code",
   "execution_count": 78,
   "id": "f951be3c",
   "metadata": {},
   "outputs": [
    {
     "name": "stdout",
     "output_type": "stream",
     "text": [
      "[{'name': 'a', 'score': 10}, {'name': 'b', 'score': 20}, {'name': 'c', 'score': 60}]\n",
      "sorted list\n",
      "[{'name': 'c', 'score': 60}, {'name': 'b', 'score': 20}, {'name': 'a', 'score': 10}]\n"
     ]
    }
   ],
   "source": [
    "### Assignment 8: List of Dictionaries\n",
    "\n",
    "# Create a list of dictionaries where each dictionary represents a student with keys 'name' and 'score'. \n",
    "# Sort the list of dictionaries by the 'score' in descending order and print the sorted list.\n",
    "\n",
    "listOfDictionary = [\n",
    "    {\n",
    "        \"name\" : \"a\",\n",
    "        \"score\" : 10\n",
    "    },\n",
    "    {\n",
    "        \"name\" : \"b\",\n",
    "        \"score\" : 20\n",
    "    },\n",
    "    {\n",
    "        \"name\" : \"c\",\n",
    "        \"score\" : 60\n",
    "    },\n",
    "]\n",
    "\n",
    "print(listOfDictionary)\n",
    "print(\"sorted list\")\n",
    "print(sorted(listOfDictionary, key= lambda x: x['score'], reverse= True))\n"
   ]
  },
  {
   "cell_type": "code",
   "execution_count": 75,
   "id": "101f69ab",
   "metadata": {},
   "outputs": [
    {
     "name": "stdout",
     "output_type": "stream",
     "text": [
      "Original matrix:\n",
      "[1, 2, 3]\n",
      "[4, 5, 6]\n",
      "[7, 8, 9]\n",
      "Transposed matrix:\n",
      "[1, 4, 7]\n",
      "[2, 5, 8]\n",
      "[3, 6, 9]\n"
     ]
    }
   ],
   "source": [
    "### Assignment 9: Matrix Transposition\n",
    "\n",
    "# Write a function that takes \n",
    "# a 3x3 matrix (nested list) as input and returns its transpose. Print the original and transposed matrices.\n",
    "\n",
    "\n",
    "def transpose_matrix(matrix):\n",
    "    transposed = [[matrix[j][i] for j in range(len(matrix))] for i in range(len(matrix[0]))]\n",
    "    return transposed\n",
    "\n",
    "matrix = [\n",
    "    [1, 2, 3],\n",
    "    [4, 5, 6],\n",
    "    [7, 8, 9]\n",
    "]\n",
    "transposed = transpose_matrix(matrix)\n",
    "print(\"Original matrix:\")\n",
    "for row in matrix:\n",
    "    print(row)\n",
    "print(\"Transposed matrix:\")\n",
    "for row in transposed:\n",
    "    print(row)\n",
    "\n"
   ]
  },
  {
   "cell_type": "code",
   "execution_count": 87,
   "id": "7e4353d7",
   "metadata": {},
   "outputs": [
    {
     "name": "stdout",
     "output_type": "stream",
     "text": [
      "Original nested list:\n",
      "[[1, 2, 3], [4, 5, 6], [7, 8, 9]]\n",
      "Flattened list:\n",
      "[1, 2, 3, 4, 5, 6, 7, 8, 9]\n"
     ]
    }
   ],
   "source": [
    "### Assignment 10: Flattening a Nested List\n",
    "\n",
    "# Write a function that takes a nested list and flattens it into a single list. Print the original and flattened lists.\n",
    "\n",
    "nested_list = [\n",
    "    [1, 2, 3],\n",
    "    [4, 5, 6],\n",
    "    [7, 8, 9]\n",
    "]\n",
    "print(\"Original nested list:\")\n",
    "print(nested_list)\n",
    "print(\"Flattened list:\")\n",
    "print([item for n in nested_list for item in n])"
   ]
  },
  {
   "cell_type": "code",
   "execution_count": 114,
   "id": "847d97a2",
   "metadata": {},
   "outputs": [
    {
     "name": "stdout",
     "output_type": "stream",
     "text": [
      "[1, 2, 3, 4, 5, 6, 7, 8, 9, 10]\n",
      "[1, 2, 4, 6, 8, 99, 9, 10]\n"
     ]
    }
   ],
   "source": [
    "### Assignment 11: List Manipulation\n",
    "\n",
    "# Create a list of the first 10 positive integers. \n",
    "# Remove the elements at indices 2, 4, and 6, and insert the element '99' at index 5. Print the modified list.\n",
    "\n",
    "\n",
    "list = [n for n in range(1,11)]\n",
    "print(list)\n",
    "del list[6]\n",
    "del list[4]\n",
    "del list[2]\n",
    "list.insert(5, 99)\n",
    "print(list)\n",
    "\n",
    "# always start deleting from the right and remove and del are different\n",
    "# remove is used to delete a particular element. ie list.remove(2)\n"
   ]
  },
  {
   "cell_type": "code",
   "execution_count": 125,
   "id": "bb5c5a30",
   "metadata": {},
   "outputs": [
    {
     "name": "stdout",
     "output_type": "stream",
     "text": [
      "<zip object at 0x7f9bcda43c00>\n"
     ]
    }
   ],
   "source": [
    "### Assignment 12: List Zipping\n",
    "\n",
    "# Create two lists of the same length. \n",
    "# Use the `zip` function to combine these lists into a list of tuples and print the result.\n",
    "\n",
    "list1 = [1,2,3,4]\n",
    "list2 = ['a', 'b', 'c', 'd']\n",
    "zipped = zip(list1, list2)\n",
    "print(zipped)"
   ]
  },
  {
   "cell_type": "code",
   "execution_count": 130,
   "id": "ce073a29",
   "metadata": {},
   "outputs": [
    {
     "name": "stdout",
     "output_type": "stream",
     "text": [
      "[5, 4, 3, 2, 1]\n"
     ]
    }
   ],
   "source": [
    "### Assignment 13: List Reversal\n",
    "\n",
    "# Write a function that takes a list and returns a new list with the elements in reverse order. \n",
    "# Print the original and reversed lists.\n",
    "\n",
    "def reverse_list(lst):\n",
    "    return lst[::-1]\n",
    "\n",
    "print(reverse_list([1,2,3,4,5]))"
   ]
  },
  {
   "cell_type": "code",
   "execution_count": 140,
   "id": "542f4b7d",
   "metadata": {},
   "outputs": [
    {
     "name": "stdout",
     "output_type": "stream",
     "text": [
      "[3, 4, 5, 1, 2]\n"
     ]
    }
   ],
   "source": [
    "### Assignment 14: List Rotation\n",
    "\n",
    "# Write a function that rotates a list by n positions. Print the original and rotated lists.\n",
    "\n",
    "def rotate_list(lst, n):\n",
    "    return lst[n:] + lst[:n]\n",
    "\n",
    "print(rotate_list([1,2,3,4,5], 2))"
   ]
  },
  {
   "cell_type": "code",
   "execution_count": 142,
   "id": "58d8d3e5",
   "metadata": {},
   "outputs": [
    {
     "name": "stdout",
     "output_type": "stream",
     "text": [
      "[2, 4]\n"
     ]
    }
   ],
   "source": [
    "### Assignment 15: List Intersection\n",
    "\n",
    "# Write a function that takes two lists \n",
    "# and returns a new list containing only the elements that are present in both lists. Print the intersected list.\n",
    "\n",
    "\n",
    "def intersection_list(l1,l2):\n",
    "    return [n for n in l1 if n in l2]\n",
    "\n",
    "\n",
    "print(intersection_list([1,2,3,4], [4,12,34,2]))"
   ]
  },
  {
   "cell_type": "code",
   "execution_count": null,
   "id": "10a631c8",
   "metadata": {},
   "outputs": [],
   "source": []
  }
 ],
 "metadata": {
  "kernelspec": {
   "display_name": "Python 3",
   "language": "python",
   "name": "python3"
  },
  "language_info": {
   "codemirror_mode": {
    "name": "ipython",
    "version": 3
   },
   "file_extension": ".py",
   "mimetype": "text/x-python",
   "name": "python",
   "nbconvert_exporter": "python",
   "pygments_lexer": "ipython3",
   "version": "3.12.3"
  }
 },
 "nbformat": 4,
 "nbformat_minor": 5
}
